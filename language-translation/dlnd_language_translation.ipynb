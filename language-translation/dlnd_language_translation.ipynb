{
 "cells": [
  {
   "cell_type": "markdown",
   "metadata": {
    "collapsed": true
   },
   "source": [
    "# Language Translation\n",
    "In this project, you’re going to take a peek into the realm of neural network machine translation.  You’ll be training a sequence to sequence model on a dataset of English and French sentences that can translate new sentences from English to French.\n",
    "## Get the Data\n",
    "Since translating the whole language of English to French will take lots of time to train, we have provided you with a small portion of the English corpus."
   ]
  },
  {
   "cell_type": "code",
   "execution_count": 1,
   "metadata": {
    "collapsed": true
   },
   "outputs": [],
   "source": [
    "\"\"\"\n",
    "DON'T MODIFY ANYTHING IN THIS CELL\n",
    "\"\"\"\n",
    "import helper\n",
    "import problem_unittests as tests\n",
    "\n",
    "source_path = 'data/small_vocab_en'\n",
    "target_path = 'data/small_vocab_fr'\n",
    "source_text = helper.load_data(source_path)\n",
    "target_text = helper.load_data(target_path)"
   ]
  },
  {
   "cell_type": "markdown",
   "metadata": {},
   "source": [
    "## Explore the Data\n",
    "Play around with view_sentence_range to view different parts of the data."
   ]
  },
  {
   "cell_type": "code",
   "execution_count": 2,
   "metadata": {},
   "outputs": [
    {
     "name": "stdout",
     "output_type": "stream",
     "text": [
      "Dataset Stats\n",
      "Roughly the number of unique words: 227\n",
      "Number of sentences: 137861\n",
      "Average number of words in a sentence: 13.225277634719028\n",
      "\n",
      "English sentences 0 to 10:\n",
      "new jersey is sometimes quiet during autumn , and it is snowy in april .\n",
      "the united states is usually chilly during july , and it is usually freezing in november .\n",
      "california is usually quiet during march , and it is usually hot in june .\n",
      "the united states is sometimes mild during june , and it is cold in september .\n",
      "your least liked fruit is the grape , but my least liked is the apple .\n",
      "his favorite fruit is the orange , but my favorite is the grape .\n",
      "paris is relaxing during december , but it is usually chilly in july .\n",
      "new jersey is busy during spring , and it is never hot in march .\n",
      "our least liked fruit is the lemon , but my least liked is the grape .\n",
      "the united states is sometimes busy during january , and it is sometimes warm in november .\n",
      "\n",
      "French sentences 0 to 10:\n",
      "new jersey est parfois calme pendant l' automne , et il est neigeux en avril .\n",
      "les états-unis est généralement froid en juillet , et il gèle habituellement en novembre .\n",
      "california est généralement calme en mars , et il est généralement chaud en juin .\n",
      "les états-unis est parfois légère en juin , et il fait froid en septembre .\n",
      "votre moins aimé fruit est le raisin , mais mon moins aimé est la pomme .\n",
      "son fruit préféré est l'orange , mais mon préféré est le raisin .\n",
      "paris est relaxant en décembre , mais il est généralement froid en juillet .\n",
      "new jersey est occupé au printemps , et il est jamais chaude en mars .\n",
      "notre fruit est moins aimé le citron , mais mon moins aimé est le raisin .\n",
      "les états-unis est parfois occupé en janvier , et il est parfois chaud en novembre .\n"
     ]
    }
   ],
   "source": [
    "view_sentence_range = (0, 10)\n",
    "\n",
    "\"\"\"\n",
    "DON'T MODIFY ANYTHING IN THIS CELL\n",
    "\"\"\"\n",
    "import numpy as np\n",
    "\n",
    "print('Dataset Stats')\n",
    "print('Roughly the number of unique words: {}'.format(len({word: None for word in source_text.split()})))\n",
    "\n",
    "sentences = source_text.split('\\n')\n",
    "word_counts = [len(sentence.split()) for sentence in sentences]\n",
    "print('Number of sentences: {}'.format(len(sentences)))\n",
    "print('Average number of words in a sentence: {}'.format(np.average(word_counts)))\n",
    "\n",
    "print()\n",
    "print('English sentences {} to {}:'.format(*view_sentence_range))\n",
    "print('\\n'.join(source_text.split('\\n')[view_sentence_range[0]:view_sentence_range[1]]))\n",
    "print()\n",
    "print('French sentences {} to {}:'.format(*view_sentence_range))\n",
    "print('\\n'.join(target_text.split('\\n')[view_sentence_range[0]:view_sentence_range[1]]))"
   ]
  },
  {
   "cell_type": "markdown",
   "metadata": {},
   "source": [
    "## Implement Preprocessing Function\n",
    "### Text to Word Ids\n",
    "As you did with other RNNs, you must turn the text into a number so the computer can understand it. In the function `text_to_ids()`, you'll turn `source_text` and `target_text` from words to ids.  However, you need to add the `<EOS>` word id at the end of `target_text`.  This will help the neural network predict when the sentence should end.\n",
    "\n",
    "You can get the `<EOS>` word id by doing:\n",
    "```python\n",
    "target_vocab_to_int['<EOS>']\n",
    "```\n",
    "You can get other word ids using `source_vocab_to_int` and `target_vocab_to_int`."
   ]
  },
  {
   "cell_type": "code",
   "execution_count": 3,
   "metadata": {},
   "outputs": [
    {
     "name": "stdout",
     "output_type": "stream",
     "text": [
      "Tests Passed\n"
     ]
    }
   ],
   "source": [
    "def text_to_ids(source_text, target_text, source_vocab_to_int, target_vocab_to_int):\n",
    "    \"\"\"\n",
    "    Convert source and target text to proper word ids\n",
    "    :param source_text: String that contains all the source text.\n",
    "    :param target_text: String that contains all the target text.\n",
    "    :param source_vocab_to_int: Dictionary to go from the source words to an id\n",
    "    :param target_vocab_to_int: Dictionary to go from the target words to an id\n",
    "    :return: A tuple of lists (source_id_text, target_id_text)\n",
    "    \"\"\"\n",
    "\n",
    "    def getTextId(word, vocab2int):\n",
    "        return vocab2int.get(word, vocab2int['<UNK>'])\n",
    "    \n",
    "#     print(' ***********************************************')\n",
    "#     print(source_vocab_to_int)\n",
    "#     print('***********************************************')\n",
    "    source_id_text = []\n",
    "    for line in source_text.split('\\n'):\n",
    "        lineids_ = []\n",
    "        words_ = []\n",
    "        for word in line.split():\n",
    "            id_ = getTextId(word.strip(), source_vocab_to_int)\n",
    "            lineids_.append(id_)\n",
    "            words_.append(word.strip())\n",
    "            # WE DON'T EOS the source text\n",
    "#         id_ = source_vocab_to_int['<EOS>']\n",
    "#         lineids_.append(id_)\n",
    "        source_id_text.append(lineids_)\n",
    "        \n",
    "#         print('========== English / Source ============')\n",
    "#         print('Line: {0}'.format(line))\n",
    "#         print('Line Space-Split Length: {0}'.format(len(line.split())))\n",
    "#         print(words_)\n",
    "#         print(lineids_)\n",
    "#         print('Length of Ids: {0}'.format(len(lineids_)))\n",
    "#         print('')\n",
    "        \n",
    "#     print(' ***********************************************')\n",
    "#     print(target_vocab_to_int)\n",
    "#     print('***********************************************')\n",
    "    target_id_text = []\n",
    "    for line in target_text.split('\\n'):\n",
    "        lineids_ = []\n",
    "        words_ = []\n",
    "        for word in line.split():\n",
    "            id_ = getTextId(word.strip(), target_vocab_to_int)\n",
    "            lineids_.append(id_)\n",
    "            words_.append(word.strip())\n",
    "        id_ = target_vocab_to_int['<EOS>']\n",
    "        lineids_.append(id_)\n",
    "        target_id_text.append(lineids_)\n",
    "        \n",
    "#         print('========== French / Target ============')\n",
    "#         print('Line: {0}'.format(line))\n",
    "#         print('Line Space-Split Length: {0}'.format(len(line.split())))\n",
    "#         print(words_)\n",
    "#         print(lineids_)\n",
    "#         print('Length of Ids: {0}'.format(len(lineids_)))\n",
    "#         print('')\n",
    "        \n",
    "    return source_id_text, target_id_text\n",
    "\n",
    "\"\"\"\n",
    "DON'T MODIFY ANYTHING IN THIS CELL THAT IS BELOW THIS LINE\n",
    "\"\"\"\n",
    "tests.test_text_to_ids(text_to_ids)"
   ]
  },
  {
   "cell_type": "markdown",
   "metadata": {},
   "source": [
    "### Preprocess all the data and save it\n",
    "Running the code cell below will preprocess all the data and save it to file."
   ]
  },
  {
   "cell_type": "code",
   "execution_count": 4,
   "metadata": {
    "collapsed": true
   },
   "outputs": [],
   "source": [
    "\"\"\"\n",
    "DON'T MODIFY ANYTHING IN THIS CELL\n",
    "\"\"\"\n",
    "helper.preprocess_and_save_data(source_path, target_path, text_to_ids)"
   ]
  },
  {
   "cell_type": "markdown",
   "metadata": {},
   "source": [
    "# Check Point\n",
    "This is your first checkpoint. If you ever decide to come back to this notebook or have to restart the notebook, you can start from here. The preprocessed data has been saved to disk."
   ]
  },
  {
   "cell_type": "code",
   "execution_count": 5,
   "metadata": {
    "collapsed": true
   },
   "outputs": [],
   "source": [
    "\"\"\"\n",
    "DON'T MODIFY ANYTHING IN THIS CELL\n",
    "\"\"\"\n",
    "import numpy as np\n",
    "import helper\n",
    "import problem_unittests as tests\n",
    "\n",
    "(source_int_text, target_int_text), (source_vocab_to_int, target_vocab_to_int), _ = helper.load_preprocess()"
   ]
  },
  {
   "cell_type": "markdown",
   "metadata": {},
   "source": [
    "### Check the Version of TensorFlow and Access to GPU\n",
    "This will check to make sure you have the correct version of TensorFlow and access to a GPU"
   ]
  },
  {
   "cell_type": "code",
   "execution_count": 6,
   "metadata": {},
   "outputs": [
    {
     "name": "stdout",
     "output_type": "stream",
     "text": [
      "TensorFlow Version: 1.1.0\n",
      "Default GPU Device: /gpu:0\n"
     ]
    }
   ],
   "source": [
    "\"\"\"\n",
    "DON'T MODIFY ANYTHING IN THIS CELL\n",
    "\"\"\"\n",
    "from distutils.version import LooseVersion\n",
    "import warnings\n",
    "import tensorflow as tf\n",
    "from tensorflow.python.layers.core import Dense\n",
    "\n",
    "# Check TensorFlow Version\n",
    "assert LooseVersion(tf.__version__) >= LooseVersion('1.1'), 'Please use TensorFlow version 1.1 or newer'\n",
    "print('TensorFlow Version: {}'.format(tf.__version__))\n",
    "\n",
    "# Check for a GPU\n",
    "if not tf.test.gpu_device_name():\n",
    "    warnings.warn('No GPU found. Please use a GPU to train your neural network.')\n",
    "else:\n",
    "    print('Default GPU Device: {}'.format(tf.test.gpu_device_name()))"
   ]
  },
  {
   "cell_type": "markdown",
   "metadata": {},
   "source": [
    "## Build the Neural Network\n",
    "You'll build the components necessary to build a Sequence-to-Sequence model by implementing the following functions below:\n",
    "- `model_inputs`\n",
    "- `process_decoder_input`\n",
    "- `encoding_layer`\n",
    "- `decoding_layer_train`\n",
    "- `decoding_layer_infer`\n",
    "- `decoding_layer`\n",
    "- `seq2seq_model`\n",
    "\n",
    "### Input\n",
    "Implement the `model_inputs()` function to create TF Placeholders for the Neural Network. It should create the following placeholders:\n",
    "\n",
    "- Input text placeholder named \"input\" using the TF Placeholder name parameter with rank 2.\n",
    "- Targets placeholder with rank 2.\n",
    "- Learning rate placeholder with rank 0.\n",
    "- Keep probability placeholder named \"keep_prob\" using the TF Placeholder name parameter with rank 0.\n",
    "- Target sequence length placeholder named \"target_sequence_length\" with rank 1\n",
    "- Max target sequence length tensor named \"max_target_len\" getting its value from applying tf.reduce_max on the target_sequence_length placeholder. Rank 0.\n",
    "- Source sequence length placeholder named \"source_sequence_length\" with rank 1\n",
    "\n",
    "Return the placeholders in the following the tuple (input, targets, learning rate, keep probability, target sequence length, max target sequence length, source sequence length)"
   ]
  },
  {
   "cell_type": "code",
   "execution_count": 7,
   "metadata": {},
   "outputs": [
    {
     "name": "stdout",
     "output_type": "stream",
     "text": [
      "Tests Passed\n"
     ]
    }
   ],
   "source": [
    "from imp import reload\n",
    "reload(tests)\n",
    "def model_inputs():\n",
    "    \"\"\"\n",
    "    Create TF Placeholders for input, targets, learning rate, and lengths of source and target sequences.\n",
    "    :return: Tuple (input, targets, learning rate, keep probability, target sequence length,\n",
    "    max target sequence length, source sequence length)\n",
    "    \"\"\"\n",
    "    \n",
    "    # Rank 2\n",
    "    inputs_ = tf.placeholder(tf.int32, [None, None], name='input')\n",
    "    \n",
    "    # Rank 2\n",
    "    targets_ = tf.placeholder(tf.int32, [None, None], name='target')\n",
    "    \n",
    "    # Rank 0\n",
    "    lr_ = tf.placeholder(tf.float32, shape=())\n",
    "    \n",
    "    # Rank 0\n",
    "    keep_prob_ = tf.placeholder(tf.float32, shape=(), name='keep_prob')\n",
    "    \n",
    "    # Rank 1\n",
    "    target_sequence_length_ = tf.placeholder(tf.int32, shape=(None,), name='target_sequence_length')\n",
    "    \n",
    "    # Rank 0\n",
    "    max_target_sequence_length_ = tf.reduce_max(input_tensor=target_sequence_length_, name='max_target_sequence_length')\n",
    "    \n",
    "    # Rank 1\n",
    "    source_sequence_length_ = tf.placeholder(tf.int32, shape=(None,), name='source_sequence_length')\n",
    "    \n",
    "    return (inputs_, targets_, lr_, keep_prob_, target_sequence_length_, \n",
    "            max_target_sequence_length_, source_sequence_length_)\n",
    "\n",
    "\n",
    "\"\"\"\n",
    "DON'T MODIFY ANYTHING IN THIS CELL THAT IS BELOW THIS LINE\n",
    "\"\"\"\n",
    "tests.test_model_inputs(model_inputs)"
   ]
  },
  {
   "cell_type": "markdown",
   "metadata": {},
   "source": [
    "### Process Decoder Input\n",
    "Implement `process_decoder_input` by removing the last word id from each batch in `target_data` and concat the GO ID to the begining of each batch."
   ]
  },
  {
   "cell_type": "code",
   "execution_count": 8,
   "metadata": {},
   "outputs": [
    {
     "name": "stdout",
     "output_type": "stream",
     "text": [
      "Tests Passed\n"
     ]
    }
   ],
   "source": [
    "def process_decoder_input(target_data, target_vocab_to_int, batch_size):\n",
    "    \"\"\"\n",
    "    Preprocess target data for encoding\n",
    "    Remove the last word id from each batch and concat the <GO> to the begining of each batch\n",
    "    :param target_data: Target Placehoder\n",
    "    :param target_vocab_to_int: Dictionary to go from the target words to an id\n",
    "    :param batch_size: Batch Size\n",
    "    :return: Preprocessed target data\n",
    "    \"\"\"\n",
    "    \n",
    "    # Process the input we'll feed to the decoder\n",
    "    #GT:  '-1': slides by 'stride' step, ignoring the last entry in sequence\n",
    "    ending = tf.strided_slice(target_data, [0, 0], [batch_size, -1], [1, 1])\n",
    "    # GT: the \"go\" placeholder. Column of \"go\"s + columns of sequence without the end\n",
    "    dec_input = tf.concat([tf.fill([batch_size, 1], target_vocab_to_int['<GO>']), ending], 1)\n",
    "    \n",
    "    return dec_input\n",
    "\n",
    "\"\"\"\n",
    "DON'T MODIFY ANYTHING IN THIS CELL THAT IS BELOW THIS LINE\n",
    "\"\"\"\n",
    "tests.test_process_encoding_input(process_decoder_input)"
   ]
  },
  {
   "cell_type": "markdown",
   "metadata": {},
   "source": [
    "### Encoding\n",
    "Implement `encoding_layer()` to create a Encoder RNN layer:\n",
    " * Embed the encoder input using [`tf.contrib.layers.embed_sequence`](https://www.tensorflow.org/api_docs/python/tf/contrib/layers/embed_sequence)\n",
    " * Construct a [stacked](https://github.com/tensorflow/tensorflow/blob/6947f65a374ebf29e74bb71e36fd82760056d82c/tensorflow/docs_src/tutorials/recurrent.md#stacking-multiple-lstms) [`tf.contrib.rnn.LSTMCell`](https://www.tensorflow.org/api_docs/python/tf/contrib/rnn/LSTMCell) wrapped in a [`tf.contrib.rnn.DropoutWrapper`](https://www.tensorflow.org/api_docs/python/tf/contrib/rnn/DropoutWrapper)\n",
    " * Pass cell and embedded input to [`tf.nn.dynamic_rnn()`](https://www.tensorflow.org/api_docs/python/tf/nn/dynamic_rnn)"
   ]
  },
  {
   "cell_type": "code",
   "execution_count": 9,
   "metadata": {
    "scrolled": false
   },
   "outputs": [
    {
     "name": "stdout",
     "output_type": "stream",
     "text": [
      "Tests Passed\n"
     ]
    }
   ],
   "source": [
    "from imp import reload\n",
    "reload(tests)\n",
    "\n",
    "def encoding_layer(rnn_inputs, rnn_size, num_layers, keep_prob, \n",
    "                   source_sequence_length, source_vocab_size, \n",
    "                   encoding_embedding_size):\n",
    "    \"\"\"\n",
    "    Create encoding layer\n",
    "    :param rnn_inputs: Inputs for the RNN\n",
    "    :param rnn_size: RNN Size\n",
    "    :param num_layers: Number of layers\n",
    "    :param keep_prob: Dropout keep probability\n",
    "    :param source_sequence_length: a list of the lengths of each sequence in the batch\n",
    "    :param source_vocab_size: vocabulary size of source data\n",
    "    :param encoding_embedding_size: embedding size of source data\n",
    "    :return: tuple (RNN output, RNN state)\n",
    "    \"\"\"\n",
    "    \n",
    "    # Embed the encoder input\n",
    "    embeded_input =  tf.contrib.layers.embed_sequence(rnn_inputs, source_vocab_size, encoding_embedding_size)\n",
    "    \n",
    "    \n",
    "    def create_LSTM_layer(rnn_size, keep_prob):\n",
    "        # Create the basic cells of a given number of units inside the cells (or state size output)\n",
    "        lstm_cell = tf.contrib.rnn.LSTMCell(num_units=rnn_size, initializer=tf.random_uniform_initializer(-0.1, 0.1))\n",
    "        # Wrap the cell in dropout tender loving care\n",
    "        lstm_layer = tf.contrib.rnn.DropoutWrapper(lstm_cell, output_keep_prob=keep_prob)\n",
    "        return lstm_layer\n",
    "    \n",
    "    # Stack the cells\n",
    "    enc_cell = tf.contrib.rnn.MultiRNNCell([create_LSTM_layer(rnn_size, keep_prob) for _ in range(num_layers)])\n",
    "\n",
    "    #  .... performs fully dynamic unrolling of `inputs`\n",
    "    #  ignore the output \n",
    "    #  return:  The FINAL state (i.e. 1, not the state values unrolled in time).  \n",
    "    #           If `cell.state_size` is an int, this will be shaped `[batch_size, cell.state_size]`\n",
    "    enc_output, enc_state = tf.nn.dynamic_rnn(cell=enc_cell, inputs=embeded_input, \n",
    "                                              sequence_length=source_sequence_length, \n",
    "                                              dtype=tf.float32) \n",
    "    \n",
    "    return enc_output, enc_state\n",
    "\n",
    "\"\"\"\n",
    "DON'T MODIFY ANYTHING IN THIS CELL THAT IS BELOW THIS LINE\n",
    "\"\"\"\n",
    "tests.test_encoding_layer(encoding_layer)"
   ]
  },
  {
   "cell_type": "markdown",
   "metadata": {},
   "source": [
    "### Decoding - Training\n",
    "Create a training decoding layer:\n",
    "* Create a [`tf.contrib.seq2seq.TrainingHelper`](https://www.tensorflow.org/api_docs/python/tf/contrib/seq2seq/TrainingHelper) \n",
    "* Create a [`tf.contrib.seq2seq.BasicDecoder`](https://www.tensorflow.org/api_docs/python/tf/contrib/seq2seq/BasicDecoder)\n",
    "* Obtain the decoder outputs from [`tf.contrib.seq2seq.dynamic_decode`](https://www.tensorflow.org/api_docs/python/tf/contrib/seq2seq/dynamic_decode)"
   ]
  },
  {
   "cell_type": "code",
   "execution_count": 10,
   "metadata": {},
   "outputs": [
    {
     "name": "stdout",
     "output_type": "stream",
     "text": [
      "Tests Passed\n"
     ]
    }
   ],
   "source": [
    "from imp import reload\n",
    "reload(tests)\n",
    "\n",
    "def decoding_layer_train(encoder_state, dec_cell, dec_embed_input, \n",
    "                         target_sequence_length, max_summary_length, \n",
    "                         output_layer, keep_prob):\n",
    "    \"\"\"\n",
    "    Create a decoding layer for training\n",
    "    :param encoder_state: Encoder State\n",
    "    :param dec_cell: Decoder RNN Cell\n",
    "    :param dec_embed_input: Decoder embedded input\n",
    "    :param target_sequence_length: The lengths of each sequence in the target batch\n",
    "    :param max_summary_length: The length of the longest sequence in the batch\n",
    "    :param output_layer: Function to apply the output layer\n",
    "    :param keep_prob: Dropout keep probability\n",
    "    :return: BasicDecoderOutput containing training logits and sample_id\n",
    "    \"\"\"\n",
    "    \n",
    "    helper=tf.contrib.seq2seq.TrainingHelper(inputs=dec_embed_input, sequence_length=target_sequence_length)\n",
    "\n",
    "    decoder=tf.contrib.seq2seq.BasicDecoder(cell = dec_cell, \n",
    "                                            helper=helper,\n",
    "                                            initial_state=encoder_state,\n",
    "                                            output_layer=output_layer)\n",
    "\n",
    "    training_decoder_output, final_state = tf.contrib.seq2seq.dynamic_decode(decoder=decoder, \n",
    "                                                                             maximum_iterations=max_summary_length)\n",
    "    \n",
    "    return training_decoder_output\n",
    "\n",
    "\n",
    "\n",
    "\"\"\"\n",
    "DON'T MODIFY ANYTHING IN THIS CELL THAT IS BELOW THIS LINE\n",
    "\"\"\"\n",
    "tests.test_decoding_layer_train(decoding_layer_train)"
   ]
  },
  {
   "cell_type": "markdown",
   "metadata": {},
   "source": [
    "### Decoding - Inference\n",
    "Create inference decoder:\n",
    "* Create a [`tf.contrib.seq2seq.GreedyEmbeddingHelper`](https://www.tensorflow.org/api_docs/python/tf/contrib/seq2seq/GreedyEmbeddingHelper)\n",
    "* Create a [`tf.contrib.seq2seq.BasicDecoder`](https://www.tensorflow.org/api_docs/python/tf/contrib/seq2seq/BasicDecoder)\n",
    "* Obtain the decoder outputs from [`tf.contrib.seq2seq.dynamic_decode`](https://www.tensorflow.org/api_docs/python/tf/contrib/seq2seq/dynamic_decode)"
   ]
  },
  {
   "cell_type": "code",
   "execution_count": 11,
   "metadata": {
    "scrolled": true
   },
   "outputs": [
    {
     "name": "stdout",
     "output_type": "stream",
     "text": [
      "Tests Passed\n"
     ]
    }
   ],
   "source": [
    "def decoding_layer_infer(encoder_state, \n",
    "                         dec_cell, \n",
    "                         dec_embeddings, \n",
    "                         start_of_sequence_id,\n",
    "                         end_of_sequence_id, \n",
    "                         max_target_sequence_length,\n",
    "                         vocab_size, \n",
    "                         output_layer, \n",
    "                         batch_size, \n",
    "                         keep_prob):\n",
    "    \"\"\"\n",
    "    Create a decoding layer for inference\n",
    "    :param encoder_state: Encoder state\n",
    "    :param dec_cell: Decoder RNN Cell\n",
    "    :param dec_embeddings: Decoder embeddings\n",
    "    :param start_of_sequence_id: GO ID\n",
    "    :param end_of_sequence_id: EOS Id\n",
    "    :param max_target_sequence_length: Maximum length of target sequences\n",
    "    :param vocab_size: Size of decoder/target vocabulary\n",
    "    :param decoding_scope: TenorFlow Variable Scope for decoding\n",
    "    :param output_layer: Function to apply the output layer\n",
    "    :param batch_size: Batch size\n",
    "    :param keep_prob: Dropout keep probability\n",
    "    :return: BasicDecoderOutput containing inference logits and sample_id\n",
    "    \"\"\"\n",
    "    \n",
    "    # GT: This creates a vector of the start sequence ID\n",
    "    start_tokens = tf.tile(tf.constant([start_of_sequence_id], dtype=tf.int32), [batch_size], name='start_tokens')\n",
    "\n",
    "    # Helper for the inference process.\n",
    "    inference_helper = tf.contrib.seq2seq.GreedyEmbeddingHelper(dec_embeddings, start_tokens, end_of_sequence_id)\n",
    "\n",
    "    # Basic decoder\n",
    "    inference_decoder = tf.contrib.seq2seq.BasicDecoder(dec_cell,inference_helper, encoder_state, output_layer)\n",
    "\n",
    "\n",
    "    # Perform dynamic decoding using the decoder\n",
    "    inference_decoder_output = tf.contrib.seq2seq.dynamic_decode(inference_decoder, \n",
    "                                                                 impute_finished=True,\n",
    "                                                                 maximum_iterations=max_target_sequence_length)[0]\n",
    "\n",
    "    return inference_decoder_output\n",
    "\n",
    "\"\"\"\n",
    "DON'T MODIFY ANYTHING IN THIS CELL THAT IS BELOW THIS LINE\n",
    "\"\"\"\n",
    "tests.test_decoding_layer_infer(decoding_layer_infer)"
   ]
  },
  {
   "cell_type": "markdown",
   "metadata": {},
   "source": [
    "### Build the Decoding Layer\n",
    "Implement `decoding_layer()` to create a Decoder RNN layer.\n",
    "\n",
    "* Embed the target sequences\n",
    "* Construct the decoder LSTM cell (just like you constructed the encoder cell above)\n",
    "* Create an output layer to map the outputs of the decoder to the elements of our vocabulary\n",
    "* Use the your `decoding_layer_train(encoder_state, dec_cell, dec_embed_input, target_sequence_length, max_target_sequence_length, output_layer, keep_prob)` function to get the training logits.\n",
    "* Use your `decoding_layer_infer(encoder_state, dec_cell, dec_embeddings, start_of_sequence_id, end_of_sequence_id, max_target_sequence_length, vocab_size, output_layer, batch_size, keep_prob)` function to get the inference logits.\n",
    "\n",
    "Note: You'll need to use [tf.variable_scope](https://www.tensorflow.org/api_docs/python/tf/variable_scope) to share variables between training and inference."
   ]
  },
  {
   "cell_type": "code",
   "execution_count": 12,
   "metadata": {},
   "outputs": [
    {
     "name": "stdout",
     "output_type": "stream",
     "text": [
      "Tests Passed\n"
     ]
    }
   ],
   "source": [
    "from imp import reload\n",
    "reload(tests)\n",
    "\n",
    "def decoding_layer(dec_input, \n",
    "                   encoder_state,\n",
    "                   target_sequence_length, \n",
    "                   max_target_sequence_length,\n",
    "                   rnn_size,\n",
    "                   num_layers, \n",
    "                   target_vocab_to_int, \n",
    "                   target_vocab_size,\n",
    "                   batch_size, \n",
    "                   keep_prob, \n",
    "                   decoding_embedding_size):\n",
    "    \"\"\"\n",
    "    Create decoding layer\n",
    "    :param dec_input: Decoder input\n",
    "    :param encoder_state: Encoder state\n",
    "    :param target_sequence_length: The lengths of each sequence in the target batch\n",
    "    :param max_target_sequence_length: Maximum length of target sequences\n",
    "    :param rnn_size: RNN Size\n",
    "    :param num_layers: Number of layers\n",
    "    :param target_vocab_to_int: Dictionary to go from the target words to an id\n",
    "    :param target_vocab_size: Size of target vocabulary\n",
    "    :param batch_size: The size of the batch\n",
    "    :param keep_prob: Dropout keep probability\n",
    "    :param decoding_embedding_size: Decoding embedding size\n",
    "    :return: Tuple of (Training BasicDecoderOutput, Inference BasicDecoderOutput)\n",
    "    \"\"\"\n",
    "    \n",
    "    \n",
    "    # 1. Decoder Embedding\n",
    "    dec_embeddings = tf.Variable(tf.random_uniform([target_vocab_size, decoding_embedding_size]))\n",
    "    dec_embed_input = tf.nn.embedding_lookup(dec_embeddings, dec_input)\n",
    "    \n",
    "    \n",
    "    # 2. Construct the decoder cell\n",
    "    def make_cell(rnn_size, keep_prob):\n",
    "        dec_cell = tf.contrib.rnn.LSTMCell(rnn_size, initializer=tf.random_uniform_initializer(-0.1, 0.1))\n",
    "        # Wrap the cell in dropout tender loving care\n",
    "        dec_cell = tf.contrib.rnn.DropoutWrapper(dec_cell, output_keep_prob=keep_prob)\n",
    "        return dec_cell\n",
    "    \n",
    "    dec_cell = tf.contrib.rnn.MultiRNNCell([make_cell(rnn_size, keep_prob) for _ in range(num_layers)])\n",
    "    \n",
    "    # 3. Dense layer to translate the decoder's output at each time \n",
    "    # step into a choice from the target vocabulary\n",
    "    output_layer = Dense(target_vocab_size, \n",
    "                         kernel_initializer = tf.truncated_normal_initializer(mean = 0.0, stddev=0.1))\n",
    "    \n",
    "    \n",
    "     # 4. Set up a training decoder and an inference decoder\n",
    "    # Training Decoder\n",
    "    with tf.variable_scope(\"decode\"):\n",
    "        training_decoder_output = decoding_layer_train(encoder_state, \n",
    "                                                       dec_cell, \n",
    "                                                       dec_embed_input, \n",
    "                                                       target_sequence_length, \n",
    "                                                       max_target_sequence_length, \n",
    "                                                       output_layer, \n",
    "                                                       keep_prob)\n",
    "    \n",
    "    # 5. Inference Decoder\n",
    "    # Reuses the same parameters trained by the training process\n",
    "    with tf.variable_scope(\"decode\", reuse=True):\n",
    "        inference_decoder_output = decoding_layer_infer(encoder_state, \n",
    "                                                        dec_cell, \n",
    "                                                        dec_embeddings, \n",
    "                                                        target_vocab_to_int[\"<GO>\"],\n",
    "                                                        target_vocab_to_int[\"<EOS>\"], \n",
    "                                                        max_target_sequence_length,\n",
    "                                                        target_vocab_size, \n",
    "                                                        output_layer, \n",
    "                                                        batch_size, \n",
    "                                                        keep_prob)\n",
    "        \n",
    "        \n",
    "    return training_decoder_output, inference_decoder_output\n",
    "\n",
    "\n",
    "\"\"\"\n",
    "DON'T MODIFY ANYTHING IN THIS CELL THAT IS BELOW THIS LINE\n",
    "\"\"\"\n",
    "tests.test_decoding_layer(decoding_layer)"
   ]
  },
  {
   "cell_type": "markdown",
   "metadata": {},
   "source": [
    "### Build the Neural Network\n",
    "Apply the functions you implemented above to:\n",
    "\n",
    "- Encode the input using your `encoding_layer(rnn_inputs, rnn_size, num_layers, keep_prob,  source_sequence_length, source_vocab_size, encoding_embedding_size)`.\n",
    "- Process target data using your `process_decoder_input(target_data, target_vocab_to_int, batch_size)` function.\n",
    "- Decode the encoded input using your `decoding_layer(dec_input, enc_state, target_sequence_length, max_target_sentence_length, rnn_size, num_layers, target_vocab_to_int, target_vocab_size, batch_size, keep_prob, dec_embedding_size)` function."
   ]
  },
  {
   "cell_type": "code",
   "execution_count": 13,
   "metadata": {},
   "outputs": [
    {
     "name": "stdout",
     "output_type": "stream",
     "text": [
      "Tests Passed\n"
     ]
    }
   ],
   "source": [
    "def seq2seq_model(input_data, \n",
    "                  target_data, \n",
    "                  keep_prob, \n",
    "                  batch_size,\n",
    "                  source_sequence_length, \n",
    "                  target_sequence_length,\n",
    "                  max_target_sentence_length,\n",
    "                  source_vocab_size, \n",
    "                  target_vocab_size,\n",
    "                  enc_embedding_size, \n",
    "                  dec_embedding_size,\n",
    "                  rnn_size, \n",
    "                  num_layers, \n",
    "                  target_vocab_to_int):\n",
    "    \"\"\"\n",
    "    Build the Sequence-to-Sequence part of the neural network\n",
    "    :param input_data: Input placeholder\n",
    "    :param target_data: Target placeholder\n",
    "    :param keep_prob: Dropout keep probability placeholder\n",
    "    :param batch_size: Batch Size\n",
    "    :param source_sequence_length: Sequence Lengths of source sequences in the batch\n",
    "    :param target_sequence_length: Sequence Lengths of target sequences in the batch\n",
    "    :param source_vocab_size: Source vocabulary size\n",
    "    :param target_vocab_size: Target vocabulary size\n",
    "    :param enc_embedding_size: Decoder embedding size\n",
    "    :param dec_embedding_size: Encoder embedding size\n",
    "    :param rnn_size: RNN Size\n",
    "    :param num_layers: Number of layers\n",
    "    :param target_vocab_to_int: Dictionary to go from the target words to an id\n",
    "    :return: Tuple of (Training BasicDecoderOutput, Inference BasicDecoderOutput)\n",
    "    \"\"\"\n",
    "    \n",
    "    \n",
    "    # Encode the input\n",
    "    enc_output, enc_state = encoding_layer(input_data, rnn_size, num_layers, keep_prob,  \n",
    "                                           source_sequence_length, source_vocab_size, \n",
    "                                           enc_embedding_size)\n",
    "    \n",
    "    # Process target data\n",
    "    dec_input = process_decoder_input(target_data, target_vocab_to_int, batch_size)\n",
    "    \n",
    "    \n",
    "    \n",
    "    # Decode the encoded input\n",
    "    training_decoder_output, inference_decoder_output = decoding_layer(dec_input, \n",
    "                                                                       enc_state, \n",
    "                                                                       target_sequence_length, \n",
    "                                                                       max_target_sentence_length, \n",
    "                                                                       rnn_size, num_layers, \n",
    "                                                                       target_vocab_to_int, \n",
    "                                                                       target_vocab_size, \n",
    "                                                                       batch_size, \n",
    "                                                                       keep_prob, \n",
    "                                                                       dec_embedding_size) \n",
    "    \n",
    "    return (training_decoder_output, inference_decoder_output)\n",
    "\n",
    "\n",
    "\"\"\"\n",
    "DON'T MODIFY ANYTHING IN THIS CELL THAT IS BELOW THIS LINE\n",
    "\"\"\"\n",
    "tests.test_seq2seq_model(seq2seq_model)"
   ]
  },
  {
   "cell_type": "markdown",
   "metadata": {},
   "source": [
    "## Neural Network Training\n",
    "### Hyperparameters\n",
    "Tune the following parameters:\n",
    "\n",
    "- Set `epochs` to the number of epochs.\n",
    "- Set `batch_size` to the batch size.\n",
    "- Set `rnn_size` to the size of the RNNs.\n",
    "- Set `num_layers` to the number of layers.\n",
    "- Set `encoding_embedding_size` to the size of the embedding for the encoder.\n",
    "- Set `decoding_embedding_size` to the size of the embedding for the decoder.\n",
    "- Set `learning_rate` to the learning rate.\n",
    "- Set `keep_probability` to the Dropout keep probability\n",
    "- Set `display_step` to state how many steps between each debug output statement"
   ]
  },
  {
   "cell_type": "code",
   "execution_count": 14,
   "metadata": {
    "collapsed": true
   },
   "outputs": [],
   "source": [
    "# Number of Epochs\n",
    "epochs = 10\n",
    "# Batch Size\n",
    "batch_size = 512\n",
    "# RNN Size\n",
    "rnn_size = 256\n",
    "# Number of Layers\n",
    "num_layers = 2\n",
    "# Embedding Size\n",
    "encoding_embedding_size = 128\n",
    "decoding_embedding_size = 128\n",
    "# Learning Rate\n",
    "learning_rate = 1e-3\n",
    "# Dropout Keep Probability\n",
    "keep_probability = 0.3\n",
    "display_step = 20"
   ]
  },
  {
   "cell_type": "markdown",
   "metadata": {},
   "source": [
    "### Build the Graph\n",
    "Build the graph using the neural network you implemented."
   ]
  },
  {
   "cell_type": "code",
   "execution_count": 15,
   "metadata": {
    "collapsed": true
   },
   "outputs": [],
   "source": [
    "\"\"\"\n",
    "DON'T MODIFY ANYTHING IN THIS CELL\n",
    "\"\"\"\n",
    "save_path = 'checkpoints/dev'\n",
    "(source_int_text, target_int_text), (source_vocab_to_int, target_vocab_to_int), _ = helper.load_preprocess()\n",
    "max_target_sentence_length = max([len(sentence) for sentence in source_int_text])\n",
    "\n",
    "train_graph = tf.Graph()\n",
    "with train_graph.as_default():\n",
    "    input_data, targets, lr, keep_prob, target_sequence_length, max_target_sequence_length, source_sequence_length = model_inputs()\n",
    "\n",
    "    # sequence_length = tf.placeholder_with_default(max_target_sentence_length, None, name='sequence_length')\n",
    "    input_shape = tf.shape(input_data)\n",
    "\n",
    "    train_logits, inference_logits = seq2seq_model(tf.reverse(input_data, [-1]),\n",
    "                                                   targets,\n",
    "                                                   keep_prob,\n",
    "                                                   batch_size,\n",
    "                                                   source_sequence_length,\n",
    "                                                   target_sequence_length,\n",
    "                                                   max_target_sequence_length,\n",
    "                                                   len(source_vocab_to_int),\n",
    "                                                   len(target_vocab_to_int),\n",
    "                                                   encoding_embedding_size,\n",
    "                                                   decoding_embedding_size,\n",
    "                                                   rnn_size,\n",
    "                                                   num_layers,\n",
    "                                                   target_vocab_to_int)\n",
    "\n",
    "\n",
    "    training_logits = tf.identity(train_logits.rnn_output, name='logits')\n",
    "    inference_logits = tf.identity(inference_logits.sample_id, name='predictions')\n",
    "\n",
    "    masks = tf.sequence_mask(target_sequence_length, max_target_sequence_length, dtype=tf.float32, name='masks')\n",
    "\n",
    "    with tf.name_scope(\"optimization\"):\n",
    "        # Loss function\n",
    "        cost = tf.contrib.seq2seq.sequence_loss(\n",
    "            training_logits,\n",
    "            targets,\n",
    "            masks)\n",
    "\n",
    "        # Optimizer\n",
    "        optimizer = tf.train.AdamOptimizer(lr)\n",
    "\n",
    "        # Gradient Clipping\n",
    "        gradients = optimizer.compute_gradients(cost)\n",
    "        capped_gradients = [(tf.clip_by_value(grad, -1., 1.), var) for grad, var in gradients if grad is not None]\n",
    "        train_op = optimizer.apply_gradients(capped_gradients)\n"
   ]
  },
  {
   "cell_type": "markdown",
   "metadata": {},
   "source": [
    "Batch and pad the source and target sequences"
   ]
  },
  {
   "cell_type": "code",
   "execution_count": 16,
   "metadata": {
    "collapsed": true
   },
   "outputs": [],
   "source": [
    "\"\"\"\n",
    "DON'T MODIFY ANYTHING IN THIS CELL\n",
    "\"\"\"\n",
    "def pad_sentence_batch(sentence_batch, pad_int):\n",
    "    \"\"\"Pad sentences with <PAD> so that each sentence of a batch has the same length\"\"\"\n",
    "    max_sentence = max([len(sentence) for sentence in sentence_batch])\n",
    "    return [sentence + [pad_int] * (max_sentence - len(sentence)) for sentence in sentence_batch]\n",
    "\n",
    "\n",
    "def get_batches(sources, targets, batch_size, source_pad_int, target_pad_int):\n",
    "    \"\"\"Batch targets, sources, and the lengths of their sentences together\"\"\"\n",
    "    for batch_i in range(0, len(sources)//batch_size):\n",
    "        start_i = batch_i * batch_size\n",
    "\n",
    "        # Slice the right amount for the batch\n",
    "        sources_batch = sources[start_i:start_i + batch_size]\n",
    "        targets_batch = targets[start_i:start_i + batch_size]\n",
    "\n",
    "        # Pad\n",
    "        pad_sources_batch = np.array(pad_sentence_batch(sources_batch, source_pad_int))\n",
    "        pad_targets_batch = np.array(pad_sentence_batch(targets_batch, target_pad_int))\n",
    "\n",
    "        # Need the lengths for the _lengths parameters\n",
    "        pad_targets_lengths = []\n",
    "        for target in pad_targets_batch:\n",
    "            pad_targets_lengths.append(len(target))\n",
    "\n",
    "        pad_source_lengths = []\n",
    "        for source in pad_sources_batch:\n",
    "            pad_source_lengths.append(len(source))\n",
    "\n",
    "        yield pad_sources_batch, pad_targets_batch, pad_source_lengths, pad_targets_lengths\n"
   ]
  },
  {
   "cell_type": "markdown",
   "metadata": {},
   "source": [
    "### Train\n",
    "Train the neural network on the preprocessed data. If you have a hard time getting a good loss, check the forms to see if anyone is having the same problem."
   ]
  },
  {
   "cell_type": "code",
   "execution_count": 17,
   "metadata": {
    "scrolled": true
   },
   "outputs": [
    {
     "name": "stdout",
     "output_type": "stream",
     "text": [
      "Epoch   0 Batch   20/269 - Train Accuracy: 0.3536, Validation Accuracy: 0.4133, Loss: 3.2895\n",
      "Epoch   0 Batch   40/269 - Train Accuracy: 0.4192, Validation Accuracy: 0.4761, Loss: 2.8346\n",
      "Epoch   0 Batch   60/269 - Train Accuracy: 0.4604, Validation Accuracy: 0.4758, Loss: 2.2555\n",
      "Epoch   0 Batch   80/269 - Train Accuracy: 0.4873, Validation Accuracy: 0.5057, Loss: 2.0009\n",
      "Epoch   0 Batch  100/269 - Train Accuracy: 0.4738, Validation Accuracy: 0.4915, Loss: 1.7925\n",
      "Epoch   0 Batch  120/269 - Train Accuracy: 0.4349, Validation Accuracy: 0.4972, Loss: 1.7369\n",
      "Epoch   0 Batch  140/269 - Train Accuracy: 0.4608, Validation Accuracy: 0.4903, Loss: 1.5556\n",
      "Epoch   0 Batch  160/269 - Train Accuracy: 0.4750, Validation Accuracy: 0.5042, Loss: 1.4332\n",
      "Epoch   0 Batch  180/269 - Train Accuracy: 0.4997, Validation Accuracy: 0.5234, Loss: 1.3185\n",
      "Epoch   0 Batch  200/269 - Train Accuracy: 0.4991, Validation Accuracy: 0.5294, Loss: 1.2858\n",
      "Epoch   0 Batch  220/269 - Train Accuracy: 0.5312, Validation Accuracy: 0.5466, Loss: 1.0991\n",
      "Epoch   0 Batch  240/269 - Train Accuracy: 0.5887, Validation Accuracy: 0.5675, Loss: 1.0021\n",
      "Epoch   0 Batch  260/269 - Train Accuracy: 0.5552, Validation Accuracy: 0.5768, Loss: 1.0666\n",
      "Epoch   1 Batch   20/269 - Train Accuracy: 0.5678, Validation Accuracy: 0.5805, Loss: 0.9589\n",
      "Epoch   1 Batch   40/269 - Train Accuracy: 0.5670, Validation Accuracy: 0.5943, Loss: 0.9227\n",
      "Epoch   1 Batch   60/269 - Train Accuracy: 0.5990, Validation Accuracy: 0.5970, Loss: 0.8120\n",
      "Epoch   1 Batch   80/269 - Train Accuracy: 0.6048, Validation Accuracy: 0.5996, Loss: 0.8338\n",
      "Epoch   1 Batch  100/269 - Train Accuracy: 0.6090, Validation Accuracy: 0.6078, Loss: 0.7866\n",
      "Epoch   1 Batch  120/269 - Train Accuracy: 0.5895, Validation Accuracy: 0.6127, Loss: 0.7927\n",
      "Epoch   1 Batch  140/269 - Train Accuracy: 0.6151, Validation Accuracy: 0.6111, Loss: 0.7712\n",
      "Epoch   1 Batch  160/269 - Train Accuracy: 0.6047, Validation Accuracy: 0.6115, Loss: 0.7321\n",
      "Epoch   1 Batch  180/269 - Train Accuracy: 0.6029, Validation Accuracy: 0.6017, Loss: 0.7085\n",
      "Epoch   1 Batch  200/269 - Train Accuracy: 0.6021, Validation Accuracy: 0.6165, Loss: 0.7148\n",
      "Epoch   1 Batch  220/269 - Train Accuracy: 0.6341, Validation Accuracy: 0.6288, Loss: 0.6381\n",
      "Epoch   1 Batch  240/269 - Train Accuracy: 0.6505, Validation Accuracy: 0.6300, Loss: 0.6050\n",
      "Epoch   1 Batch  260/269 - Train Accuracy: 0.6152, Validation Accuracy: 0.6280, Loss: 0.6814\n",
      "Epoch   2 Batch   20/269 - Train Accuracy: 0.6277, Validation Accuracy: 0.6436, Loss: 0.6452\n",
      "Epoch   2 Batch   40/269 - Train Accuracy: 0.6343, Validation Accuracy: 0.6453, Loss: 0.6306\n",
      "Epoch   2 Batch   60/269 - Train Accuracy: 0.6539, Validation Accuracy: 0.6481, Loss: 0.5730\n",
      "Epoch   2 Batch   80/269 - Train Accuracy: 0.6656, Validation Accuracy: 0.6572, Loss: 0.5689\n",
      "Epoch   2 Batch  100/269 - Train Accuracy: 0.6753, Validation Accuracy: 0.6599, Loss: 0.5527\n",
      "Epoch   2 Batch  120/269 - Train Accuracy: 0.6481, Validation Accuracy: 0.6597, Loss: 0.5645\n",
      "Epoch   2 Batch  140/269 - Train Accuracy: 0.6769, Validation Accuracy: 0.6712, Loss: 0.5430\n",
      "Epoch   2 Batch  160/269 - Train Accuracy: 0.6787, Validation Accuracy: 0.6766, Loss: 0.5130\n",
      "Epoch   2 Batch  180/269 - Train Accuracy: 0.6890, Validation Accuracy: 0.6934, Loss: 0.5063\n",
      "Epoch   2 Batch  200/269 - Train Accuracy: 0.7035, Validation Accuracy: 0.7143, Loss: 0.4946\n",
      "Epoch   2 Batch  220/269 - Train Accuracy: 0.7185, Validation Accuracy: 0.7116, Loss: 0.4407\n",
      "Epoch   2 Batch  240/269 - Train Accuracy: 0.7492, Validation Accuracy: 0.7309, Loss: 0.4238\n",
      "Epoch   2 Batch  260/269 - Train Accuracy: 0.7164, Validation Accuracy: 0.7435, Loss: 0.4634\n",
      "Epoch   3 Batch   20/269 - Train Accuracy: 0.7601, Validation Accuracy: 0.7773, Loss: 0.4131\n",
      "Epoch   3 Batch   40/269 - Train Accuracy: 0.7668, Validation Accuracy: 0.7788, Loss: 0.4115\n",
      "Epoch   3 Batch   60/269 - Train Accuracy: 0.7884, Validation Accuracy: 0.7852, Loss: 0.3522\n",
      "Epoch   3 Batch   80/269 - Train Accuracy: 0.8060, Validation Accuracy: 0.7934, Loss: 0.3616\n",
      "Epoch   3 Batch  100/269 - Train Accuracy: 0.8039, Validation Accuracy: 0.8016, Loss: 0.3542\n",
      "Epoch   3 Batch  120/269 - Train Accuracy: 0.8002, Validation Accuracy: 0.8172, Loss: 0.3495\n",
      "Epoch   3 Batch  140/269 - Train Accuracy: 0.8060, Validation Accuracy: 0.8105, Loss: 0.3535\n",
      "Epoch   3 Batch  160/269 - Train Accuracy: 0.8459, Validation Accuracy: 0.8390, Loss: 0.3177\n",
      "Epoch   3 Batch  180/269 - Train Accuracy: 0.8466, Validation Accuracy: 0.8365, Loss: 0.2972\n",
      "Epoch   3 Batch  200/269 - Train Accuracy: 0.8310, Validation Accuracy: 0.8404, Loss: 0.3087\n",
      "Epoch   3 Batch  220/269 - Train Accuracy: 0.8331, Validation Accuracy: 0.8423, Loss: 0.2760\n",
      "Epoch   3 Batch  240/269 - Train Accuracy: 0.8512, Validation Accuracy: 0.8366, Loss: 0.2674\n",
      "Epoch   3 Batch  260/269 - Train Accuracy: 0.8154, Validation Accuracy: 0.8467, Loss: 0.2919\n",
      "Epoch   4 Batch   20/269 - Train Accuracy: 0.8626, Validation Accuracy: 0.8638, Loss: 0.2530\n",
      "Epoch   4 Batch   40/269 - Train Accuracy: 0.8587, Validation Accuracy: 0.8708, Loss: 0.2638\n",
      "Epoch   4 Batch   60/269 - Train Accuracy: 0.8683, Validation Accuracy: 0.8678, Loss: 0.2266\n",
      "Epoch   4 Batch   80/269 - Train Accuracy: 0.8694, Validation Accuracy: 0.8745, Loss: 0.2255\n",
      "Epoch   4 Batch  100/269 - Train Accuracy: 0.8787, Validation Accuracy: 0.8693, Loss: 0.2189\n",
      "Epoch   4 Batch  120/269 - Train Accuracy: 0.8563, Validation Accuracy: 0.8688, Loss: 0.2257\n",
      "Epoch   4 Batch  140/269 - Train Accuracy: 0.8628, Validation Accuracy: 0.8756, Loss: 0.2305\n",
      "Epoch   4 Batch  160/269 - Train Accuracy: 0.8855, Validation Accuracy: 0.8784, Loss: 0.2212\n",
      "Epoch   4 Batch  180/269 - Train Accuracy: 0.8882, Validation Accuracy: 0.8809, Loss: 0.1868\n",
      "Epoch   4 Batch  200/269 - Train Accuracy: 0.8699, Validation Accuracy: 0.8817, Loss: 0.1983\n",
      "Epoch   4 Batch  220/269 - Train Accuracy: 0.8913, Validation Accuracy: 0.8772, Loss: 0.1858\n",
      "Epoch   4 Batch  240/269 - Train Accuracy: 0.8942, Validation Accuracy: 0.8878, Loss: 0.1723\n",
      "Epoch   4 Batch  260/269 - Train Accuracy: 0.8785, Validation Accuracy: 0.8833, Loss: 0.1940\n",
      "Epoch   5 Batch   20/269 - Train Accuracy: 0.8928, Validation Accuracy: 0.8840, Loss: 0.1639\n",
      "Epoch   5 Batch   40/269 - Train Accuracy: 0.8838, Validation Accuracy: 0.8960, Loss: 0.1754\n",
      "Epoch   5 Batch   60/269 - Train Accuracy: 0.8950, Validation Accuracy: 0.8888, Loss: 0.1565\n",
      "Epoch   5 Batch   80/269 - Train Accuracy: 0.8943, Validation Accuracy: 0.9008, Loss: 0.1682\n",
      "Epoch   5 Batch  100/269 - Train Accuracy: 0.8980, Validation Accuracy: 0.8936, Loss: 0.1529\n",
      "Epoch   5 Batch  120/269 - Train Accuracy: 0.8960, Validation Accuracy: 0.8979, Loss: 0.1577\n",
      "Epoch   5 Batch  140/269 - Train Accuracy: 0.8971, Validation Accuracy: 0.8990, Loss: 0.1670\n",
      "Epoch   5 Batch  160/269 - Train Accuracy: 0.9057, Validation Accuracy: 0.8994, Loss: 0.1529\n",
      "Epoch   5 Batch  180/269 - Train Accuracy: 0.9095, Validation Accuracy: 0.9086, Loss: 0.1422\n",
      "Epoch   5 Batch  200/269 - Train Accuracy: 0.8932, Validation Accuracy: 0.9020, Loss: 0.1472\n",
      "Epoch   5 Batch  220/269 - Train Accuracy: 0.9068, Validation Accuracy: 0.9038, Loss: 0.1369\n",
      "Epoch   5 Batch  240/269 - Train Accuracy: 0.9118, Validation Accuracy: 0.9075, Loss: 0.1285\n",
      "Epoch   5 Batch  260/269 - Train Accuracy: 0.9021, Validation Accuracy: 0.9053, Loss: 0.1450\n",
      "Epoch   6 Batch   20/269 - Train Accuracy: 0.9001, Validation Accuracy: 0.9045, Loss: 0.1268\n",
      "Epoch   6 Batch   40/269 - Train Accuracy: 0.9003, Validation Accuracy: 0.9097, Loss: 0.1385\n",
      "Epoch   6 Batch   60/269 - Train Accuracy: 0.9073, Validation Accuracy: 0.9081, Loss: 0.1188\n",
      "Epoch   6 Batch   80/269 - Train Accuracy: 0.9196, Validation Accuracy: 0.9146, Loss: 0.1227\n",
      "Epoch   6 Batch  100/269 - Train Accuracy: 0.9174, Validation Accuracy: 0.9202, Loss: 0.1151\n",
      "Epoch   6 Batch  120/269 - Train Accuracy: 0.9139, Validation Accuracy: 0.9200, Loss: 0.1260\n",
      "Epoch   6 Batch  140/269 - Train Accuracy: 0.9040, Validation Accuracy: 0.9172, Loss: 0.1242\n",
      "Epoch   6 Batch  160/269 - Train Accuracy: 0.9209, Validation Accuracy: 0.9102, Loss: 0.1201\n",
      "Epoch   6 Batch  180/269 - Train Accuracy: 0.9176, Validation Accuracy: 0.9186, Loss: 0.1074\n",
      "Epoch   6 Batch  200/269 - Train Accuracy: 0.9077, Validation Accuracy: 0.9214, Loss: 0.1134\n",
      "Epoch   6 Batch  220/269 - Train Accuracy: 0.9159, Validation Accuracy: 0.9126, Loss: 0.1127\n"
     ]
    },
    {
     "name": "stdout",
     "output_type": "stream",
     "text": [
      "Epoch   6 Batch  240/269 - Train Accuracy: 0.9242, Validation Accuracy: 0.9141, Loss: 0.1034\n",
      "Epoch   6 Batch  260/269 - Train Accuracy: 0.9106, Validation Accuracy: 0.9178, Loss: 0.1107\n",
      "Epoch   7 Batch   20/269 - Train Accuracy: 0.9164, Validation Accuracy: 0.9193, Loss: 0.1041\n",
      "Epoch   7 Batch   40/269 - Train Accuracy: 0.9062, Validation Accuracy: 0.9213, Loss: 0.1085\n",
      "Epoch   7 Batch   60/269 - Train Accuracy: 0.9284, Validation Accuracy: 0.9224, Loss: 0.0874\n",
      "Epoch   7 Batch   80/269 - Train Accuracy: 0.9269, Validation Accuracy: 0.9238, Loss: 0.0992\n",
      "Epoch   7 Batch  100/269 - Train Accuracy: 0.9288, Validation Accuracy: 0.9212, Loss: 0.0953\n",
      "Epoch   7 Batch  120/269 - Train Accuracy: 0.9160, Validation Accuracy: 0.9165, Loss: 0.1060\n",
      "Epoch   7 Batch  140/269 - Train Accuracy: 0.9172, Validation Accuracy: 0.9157, Loss: 0.1140\n",
      "Epoch   7 Batch  160/269 - Train Accuracy: 0.9184, Validation Accuracy: 0.9261, Loss: 0.0996\n",
      "Epoch   7 Batch  180/269 - Train Accuracy: 0.9299, Validation Accuracy: 0.9304, Loss: 0.0910\n",
      "Epoch   7 Batch  200/269 - Train Accuracy: 0.9157, Validation Accuracy: 0.9216, Loss: 0.0983\n",
      "Epoch   7 Batch  220/269 - Train Accuracy: 0.9323, Validation Accuracy: 0.9265, Loss: 0.0893\n",
      "Epoch   7 Batch  240/269 - Train Accuracy: 0.9385, Validation Accuracy: 0.9305, Loss: 0.0866\n",
      "Epoch   7 Batch  260/269 - Train Accuracy: 0.9173, Validation Accuracy: 0.9213, Loss: 0.1045\n",
      "Epoch   8 Batch   20/269 - Train Accuracy: 0.9334, Validation Accuracy: 0.9361, Loss: 0.0869\n",
      "Epoch   8 Batch   40/269 - Train Accuracy: 0.9132, Validation Accuracy: 0.9282, Loss: 0.0934\n",
      "Epoch   8 Batch   60/269 - Train Accuracy: 0.9311, Validation Accuracy: 0.9273, Loss: 0.0824\n",
      "Epoch   8 Batch   80/269 - Train Accuracy: 0.9271, Validation Accuracy: 0.9268, Loss: 0.0857\n",
      "Epoch   8 Batch  100/269 - Train Accuracy: 0.9311, Validation Accuracy: 0.9311, Loss: 0.0820\n",
      "Epoch   8 Batch  120/269 - Train Accuracy: 0.9407, Validation Accuracy: 0.9215, Loss: 0.0854\n",
      "Epoch   8 Batch  140/269 - Train Accuracy: 0.9280, Validation Accuracy: 0.9364, Loss: 0.0873\n",
      "Epoch   8 Batch  160/269 - Train Accuracy: 0.9260, Validation Accuracy: 0.9317, Loss: 0.0756\n",
      "Epoch   8 Batch  180/269 - Train Accuracy: 0.9370, Validation Accuracy: 0.9344, Loss: 0.0753\n",
      "Epoch   8 Batch  200/269 - Train Accuracy: 0.9229, Validation Accuracy: 0.9305, Loss: 0.0845\n",
      "Epoch   8 Batch  220/269 - Train Accuracy: 0.9286, Validation Accuracy: 0.9282, Loss: 0.0802\n",
      "Epoch   8 Batch  240/269 - Train Accuracy: 0.9422, Validation Accuracy: 0.9312, Loss: 0.0770\n",
      "Epoch   8 Batch  260/269 - Train Accuracy: 0.9316, Validation Accuracy: 0.9309, Loss: 0.0866\n",
      "Epoch   9 Batch   20/269 - Train Accuracy: 0.9394, Validation Accuracy: 0.9426, Loss: 0.0769\n",
      "Epoch   9 Batch   40/269 - Train Accuracy: 0.9150, Validation Accuracy: 0.9342, Loss: 0.0823\n",
      "Epoch   9 Batch   60/269 - Train Accuracy: 0.9418, Validation Accuracy: 0.9362, Loss: 0.0731\n",
      "Epoch   9 Batch   80/269 - Train Accuracy: 0.9401, Validation Accuracy: 0.9413, Loss: 0.0735\n",
      "Epoch   9 Batch  100/269 - Train Accuracy: 0.9414, Validation Accuracy: 0.9404, Loss: 0.0675\n",
      "Epoch   9 Batch  120/269 - Train Accuracy: 0.9417, Validation Accuracy: 0.9337, Loss: 0.0738\n",
      "Epoch   9 Batch  140/269 - Train Accuracy: 0.9323, Validation Accuracy: 0.9400, Loss: 0.0789\n",
      "Epoch   9 Batch  160/269 - Train Accuracy: 0.9358, Validation Accuracy: 0.9410, Loss: 0.0688\n",
      "Epoch   9 Batch  180/269 - Train Accuracy: 0.9424, Validation Accuracy: 0.9413, Loss: 0.0682\n",
      "Epoch   9 Batch  200/269 - Train Accuracy: 0.9349, Validation Accuracy: 0.9357, Loss: 0.0744\n",
      "Epoch   9 Batch  220/269 - Train Accuracy: 0.9391, Validation Accuracy: 0.9368, Loss: 0.0708\n",
      "Epoch   9 Batch  240/269 - Train Accuracy: 0.9451, Validation Accuracy: 0.9451, Loss: 0.0695\n",
      "Epoch   9 Batch  260/269 - Train Accuracy: 0.9297, Validation Accuracy: 0.9336, Loss: 0.0750\n",
      "Model Trained and Saved\n"
     ]
    }
   ],
   "source": [
    "\"\"\"\n",
    "DON'T MODIFY ANYTHING IN THIS CELL\n",
    "\"\"\"\n",
    "def get_accuracy(target, logits):\n",
    "    \"\"\"\n",
    "    Calculate accuracy\n",
    "    \"\"\"\n",
    "    max_seq = max(target.shape[1], logits.shape[1])\n",
    "    if max_seq - target.shape[1]:\n",
    "        target = np.pad(\n",
    "            target,\n",
    "            [(0,0),(0,max_seq - target.shape[1])],\n",
    "            'constant')\n",
    "    if max_seq - logits.shape[1]:\n",
    "        logits = np.pad(\n",
    "            logits,\n",
    "            [(0,0),(0,max_seq - logits.shape[1])],\n",
    "            'constant')\n",
    "\n",
    "    return np.mean(np.equal(target, logits))\n",
    "\n",
    "# Split data to training and validation sets\n",
    "train_source = source_int_text[batch_size:]\n",
    "train_target = target_int_text[batch_size:]\n",
    "valid_source = source_int_text[:batch_size]\n",
    "valid_target = target_int_text[:batch_size]\n",
    "(valid_sources_batch, valid_targets_batch, valid_sources_lengths, valid_targets_lengths ) = next(get_batches(valid_source,\n",
    "                                                                                                             valid_target,\n",
    "                                                                                                             batch_size,\n",
    "                                                                                                             source_vocab_to_int['<PAD>'],\n",
    "                                                                                                             target_vocab_to_int['<PAD>']))                                                                                                  \n",
    "with tf.Session(graph=train_graph) as sess:\n",
    "    sess.run(tf.global_variables_initializer())\n",
    "\n",
    "    for epoch_i in range(epochs):\n",
    "        for batch_i, (source_batch, target_batch, sources_lengths, targets_lengths) in enumerate(\n",
    "                get_batches(train_source, train_target, batch_size,\n",
    "                            source_vocab_to_int['<PAD>'],\n",
    "                            target_vocab_to_int['<PAD>'])):\n",
    "\n",
    "            _, loss = sess.run(\n",
    "                [train_op, cost],\n",
    "                {input_data: source_batch,\n",
    "                 targets: target_batch,\n",
    "                 lr: learning_rate,\n",
    "                 target_sequence_length: targets_lengths,\n",
    "                 source_sequence_length: sources_lengths,\n",
    "                 keep_prob: keep_probability})\n",
    "\n",
    "\n",
    "            if batch_i % display_step == 0 and batch_i > 0:\n",
    "\n",
    "\n",
    "                batch_train_logits = sess.run(\n",
    "                    inference_logits,\n",
    "                    {input_data: source_batch,\n",
    "                     source_sequence_length: sources_lengths,\n",
    "                     target_sequence_length: targets_lengths,\n",
    "                     keep_prob: 1.0})\n",
    "\n",
    "\n",
    "                batch_valid_logits = sess.run(\n",
    "                    inference_logits,\n",
    "                    {input_data: valid_sources_batch,\n",
    "                     source_sequence_length: valid_sources_lengths,\n",
    "                     target_sequence_length: valid_targets_lengths,\n",
    "                     keep_prob: 1.0})\n",
    "\n",
    "                train_acc = get_accuracy(target_batch, batch_train_logits)\n",
    "\n",
    "                valid_acc = get_accuracy(valid_targets_batch, batch_valid_logits)\n",
    "\n",
    "                print('Epoch {:>3} Batch {:>4}/{} - Train Accuracy: {:>6.4f}, Validation Accuracy: {:>6.4f}, Loss: {:>6.4f}'\n",
    "                      .format(epoch_i, batch_i, len(source_int_text) // batch_size, train_acc, valid_acc, loss))\n",
    "\n",
    "    # Save Model\n",
    "    saver = tf.train.Saver()\n",
    "    saver.save(sess, save_path)\n",
    "    print('Model Trained and Saved')"
   ]
  },
  {
   "cell_type": "markdown",
   "metadata": {},
   "source": [
    "### Save Parameters\n",
    "Save the `batch_size` and `save_path` parameters for inference."
   ]
  },
  {
   "cell_type": "code",
   "execution_count": 18,
   "metadata": {
    "collapsed": true
   },
   "outputs": [],
   "source": [
    "\"\"\"\n",
    "DON'T MODIFY ANYTHING IN THIS CELL\n",
    "\"\"\"\n",
    "# Save parameters for checkpoint\n",
    "helper.save_params(save_path)"
   ]
  },
  {
   "cell_type": "markdown",
   "metadata": {},
   "source": [
    "# Checkpoint"
   ]
  },
  {
   "cell_type": "code",
   "execution_count": 19,
   "metadata": {
    "collapsed": true
   },
   "outputs": [],
   "source": [
    "\"\"\"\n",
    "DON'T MODIFY ANYTHING IN THIS CELL\n",
    "\"\"\"\n",
    "import tensorflow as tf\n",
    "import numpy as np\n",
    "import helper\n",
    "import problem_unittests as tests\n",
    "\n",
    "_, (source_vocab_to_int, target_vocab_to_int), (source_int_to_vocab, target_int_to_vocab) = helper.load_preprocess()\n",
    "load_path = helper.load_params()"
   ]
  },
  {
   "cell_type": "markdown",
   "metadata": {},
   "source": [
    "## Sentence to Sequence\n",
    "To feed a sentence into the model for translation, you first need to preprocess it.  Implement the function `sentence_to_seq()` to preprocess new sentences.\n",
    "\n",
    "- Convert the sentence to lowercase\n",
    "- Convert words into ids using `vocab_to_int`\n",
    " - Convert words not in the vocabulary, to the `<UNK>` word id."
   ]
  },
  {
   "cell_type": "code",
   "execution_count": 20,
   "metadata": {},
   "outputs": [
    {
     "name": "stdout",
     "output_type": "stream",
     "text": [
      "Tests Passed\n"
     ]
    }
   ],
   "source": [
    "def sentence_to_seq(sentence, vocab_to_int):\n",
    "    \"\"\"\n",
    "    Convert a sentence to a sequence of ids\n",
    "    :param sentence: String\n",
    "    :param vocab_to_int: Dictionary to go from the words to an id\n",
    "    :return: List of word ids\n",
    "    \"\"\"\n",
    "    return [vocab_to_int.get(word, vocab_to_int['<UNK>']) for word in sentence.lower().split()]\n",
    "\n",
    "\n",
    "\"\"\"\n",
    "DON'T MODIFY ANYTHING IN THIS CELL THAT IS BELOW THIS LINE\n",
    "\"\"\"\n",
    "tests.test_sentence_to_seq(sentence_to_seq)"
   ]
  },
  {
   "cell_type": "markdown",
   "metadata": {},
   "source": [
    "## Translate\n",
    "This will translate `translate_sentence` from English to French."
   ]
  },
  {
   "cell_type": "code",
   "execution_count": 22,
   "metadata": {},
   "outputs": [
    {
     "name": "stdout",
     "output_type": "stream",
     "text": [
      "INFO:tensorflow:Restoring parameters from checkpoints/dev\n",
      "Input\n",
      "  Word Ids:      [16, 226, 94, 205, 46, 143, 124]\n",
      "  English Words: ['he', 'saw', 'a', 'new', 'yellow', 'truck', '.']\n",
      "\n",
      "Prediction\n",
      "  Word Ids:      [353, 200, 166, 204, 301, 191, 134, 1]\n",
      "  French Words: il n'aime un nouveau camion jaune . <EOS>\n"
     ]
    }
   ],
   "source": [
    "translate_sentence = 'he saw a new yellow truck .'\n",
    "\n",
    "\"\"\"\n",
    "DON'T MODIFY ANYTHING IN THIS CELL\n",
    "\"\"\"\n",
    "translate_sentence = sentence_to_seq(translate_sentence, source_vocab_to_int)\n",
    "\n",
    "loaded_graph = tf.Graph()\n",
    "with tf.Session(graph=loaded_graph) as sess:\n",
    "    # Load saved model\n",
    "    loader = tf.train.import_meta_graph(load_path + '.meta')\n",
    "    loader.restore(sess, load_path)\n",
    "\n",
    "    input_data = loaded_graph.get_tensor_by_name('input:0')\n",
    "    logits = loaded_graph.get_tensor_by_name('predictions:0')\n",
    "    target_sequence_length = loaded_graph.get_tensor_by_name('target_sequence_length:0')\n",
    "    source_sequence_length = loaded_graph.get_tensor_by_name('source_sequence_length:0')\n",
    "    keep_prob = loaded_graph.get_tensor_by_name('keep_prob:0')\n",
    "\n",
    "    translate_logits = sess.run(logits, {input_data: [translate_sentence]*batch_size,\n",
    "                                         target_sequence_length: [len(translate_sentence)*2]*batch_size,\n",
    "                                         source_sequence_length: [len(translate_sentence)]*batch_size,\n",
    "                                         keep_prob: 1.0})[0]\n",
    "\n",
    "print('Input')\n",
    "print('  Word Ids:      {}'.format([i for i in translate_sentence]))\n",
    "print('  English Words: {}'.format([source_int_to_vocab[i] for i in translate_sentence]))\n",
    "\n",
    "print('\\nPrediction')\n",
    "print('  Word Ids:      {}'.format([i for i in translate_logits]))\n",
    "print('  French Words: {}'.format(\" \".join([target_int_to_vocab[i] for i in translate_logits])))\n"
   ]
  },
  {
   "cell_type": "markdown",
   "metadata": {},
   "source": [
    "## Imperfect Translation\n",
    "You might notice that some sentences translate better than others.  Since the dataset you're using only has a vocabulary of 227 English words of the thousands that you use, you're only going to see good results using these words.  For this project, you don't need a perfect translation. However, if you want to create a better translation model, you'll need better data.\n",
    "\n",
    "You can train on the [WMT10 French-English corpus](http://www.statmt.org/wmt10/training-giga-fren.tar).  This dataset has more vocabulary and richer in topics discussed.  However, this will take you days to train, so make sure you've a GPU and the neural network is performing well on dataset we provided.  Just make sure you play with the WMT10 corpus after you've submitted this project.\n",
    "## Submitting This Project\n",
    "When submitting this project, make sure to run all the cells before saving the notebook. Save the notebook file as \"dlnd_language_translation.ipynb\" and save it as a HTML file under \"File\" -> \"Download as\". Include the \"helper.py\" and \"problem_unittests.py\" files in your submission."
   ]
  }
 ],
 "metadata": {
  "anaconda-cloud": {},
  "kernelspec": {
   "display_name": "Python 3",
   "language": "python",
   "name": "python3"
  },
  "language_info": {
   "codemirror_mode": {
    "name": "ipython",
    "version": 3
   },
   "file_extension": ".py",
   "mimetype": "text/x-python",
   "name": "python",
   "nbconvert_exporter": "python",
   "pygments_lexer": "ipython3",
   "version": "3.5.3"
  }
 },
 "nbformat": 4,
 "nbformat_minor": 1
}
