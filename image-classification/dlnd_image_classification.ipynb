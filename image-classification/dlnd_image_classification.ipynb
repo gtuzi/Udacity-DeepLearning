{
 "cells": [
  {
   "cell_type": "markdown",
   "metadata": {
    "collapsed": true
   },
   "source": [
    "# Image Classification\n",
    "In this project, you'll classify images from the [CIFAR-10 dataset](https://www.cs.toronto.edu/~kriz/cifar.html).  The dataset consists of airplanes, dogs, cats, and other objects. You'll preprocess the images, then train a convolutional neural network on all the samples. The images need to be normalized and the labels need to be one-hot encoded.  You'll get to apply what you learned and build a convolutional, max pooling, dropout, and fully connected layers.  At the end, you'll get to see your neural network's predictions on the sample images.\n",
    "## Get the Data\n",
    "Run the following cell to download the [CIFAR-10 dataset for python](https://www.cs.toronto.edu/~kriz/cifar-10-python.tar.gz)."
   ]
  },
  {
   "cell_type": "code",
   "execution_count": 1,
   "metadata": {},
   "outputs": [
    {
     "name": "stdout",
     "output_type": "stream",
     "text": [
      "All files found!\n"
     ]
    }
   ],
   "source": [
    "\"\"\"\n",
    "DON'T MODIFY ANYTHING IN THIS CELL THAT IS BELOW THIS LINE\n",
    "\"\"\"\n",
    "from urllib.request import urlretrieve\n",
    "from os.path import isfile, isdir\n",
    "from tqdm import tqdm\n",
    "import problem_unittests as tests\n",
    "import tarfile\n",
    "\n",
    "cifar10_dataset_folder_path = 'cifar-10-batches-py'\n",
    "\n",
    "# Use Floyd's cifar-10 dataset if present\n",
    "floyd_cifar10_location = '/input/cifar-10/python.tar.gz'\n",
    "if isfile(floyd_cifar10_location):\n",
    "    tar_gz_path = floyd_cifar10_location\n",
    "else:\n",
    "    tar_gz_path = 'cifar-10-python.tar.gz'\n",
    "\n",
    "class DLProgress(tqdm):\n",
    "    last_block = 0\n",
    "\n",
    "    def hook(self, block_num=1, block_size=1, total_size=None):\n",
    "        self.total = total_size\n",
    "        self.update((block_num - self.last_block) * block_size)\n",
    "        self.last_block = block_num\n",
    "\n",
    "if not isfile(tar_gz_path):\n",
    "    with DLProgress(unit='B', unit_scale=True, miniters=1, desc='CIFAR-10 Dataset') as pbar:\n",
    "        urlretrieve(\n",
    "            'https://www.cs.toronto.edu/~kriz/cifar-10-python.tar.gz',\n",
    "            tar_gz_path,\n",
    "            pbar.hook)\n",
    "\n",
    "if not isdir(cifar10_dataset_folder_path):\n",
    "    with tarfile.open(tar_gz_path) as tar:\n",
    "        tar.extractall()\n",
    "        tar.close()\n",
    "\n",
    "\n",
    "tests.test_folder_path(cifar10_dataset_folder_path)"
   ]
  },
  {
   "cell_type": "markdown",
   "metadata": {},
   "source": [
    "## Explore the Data\n",
    "The dataset is broken into batches to prevent your machine from running out of memory.  The CIFAR-10 dataset consists of 5 batches, named `data_batch_1`, `data_batch_2`, etc.. Each batch contains the labels and images that are one of the following:\n",
    "* airplane\n",
    "* automobile\n",
    "* bird\n",
    "* cat\n",
    "* deer\n",
    "* dog\n",
    "* frog\n",
    "* horse\n",
    "* ship\n",
    "* truck\n",
    "\n",
    "Understanding a dataset is part of making predictions on the data.  Play around with the code cell below by changing the `batch_id` and `sample_id`. The `batch_id` is the id for a batch (1-5). The `sample_id` is the id for a image and label pair in the batch.\n",
    "\n",
    "Ask yourself \"What are all possible labels?\", \"What is the range of values for the image data?\", \"Are the labels in order or random?\".  Answers to questions like these will help you preprocess the data and end up with better predictions."
   ]
  },
  {
   "cell_type": "code",
   "execution_count": 2,
   "metadata": {},
   "outputs": [
    {
     "name": "stdout",
     "output_type": "stream",
     "text": [
      "\n",
      "Stats of batch 1:\n",
      "Samples: 10000\n",
      "Label Counts: {0: 1005, 1: 974, 2: 1032, 3: 1016, 4: 999, 5: 937, 6: 1030, 7: 1001, 8: 1025, 9: 981}\n",
      "First 20 Labels: [6, 9, 9, 4, 1, 1, 2, 7, 8, 3, 4, 7, 7, 2, 9, 9, 9, 3, 2, 6]\n",
      "\n",
      "Example of Image 5:\n",
      "Image - Min Value: 0 Max Value: 252\n",
      "Image - Shape: (32, 32, 3)\n",
      "Label - Label Id: 1 Name: automobile\n"
     ]
    },
    {
     "data": {
      "image/png": "[encoded data removed]",
      "text/plain": [
       "<matplotlib.figure.Figure at 0x7fb9f04ca7b8>"
      ]
     },
     "metadata": {
      "image/png": {
       "height": 250,
       "width": 253
      }
     },
     "output_type": "display_data"
    }
   ],
   "source": [
    "%matplotlib inline\n",
    "%config InlineBackend.figure_format = 'retina'\n",
    "\n",
    "import helper\n",
    "import numpy as np\n",
    "\n",
    "# Explore the dataset\n",
    "batch_id = 1\n",
    "sample_id = 5\n",
    "helper.display_stats(cifar10_dataset_folder_path, batch_id, sample_id)"
   ]
  },
  {
   "cell_type": "markdown",
   "metadata": {},
   "source": [
    "## Implement Preprocess Functions\n",
    "### Normalize\n",
    "In the cell below, implement the `normalize` function to take in image data, `x`, and return it as a normalized Numpy array. The values should be in the range of 0 to 1, inclusive.  The return object should be the same shape as `x`."
   ]
  },
  {
   "cell_type": "code",
   "execution_count": 3,
   "metadata": {},
   "outputs": [
    {
     "name": "stdout",
     "output_type": "stream",
     "text": [
      "Tests Passed\n"
     ]
    }
   ],
   "source": [
    "def normalize(x):\n",
    "    \"\"\"\n",
    "    Normalize a list of sample image data in the range of 0 to 1\n",
    "    : x: List of image data.  The image shape is (32, 32, 3)\n",
    "    : return: Numpy array of normalize data\n",
    "    \"\"\"\n",
    "    return (np.array(x) / 255.)\n",
    "\n",
    "\n",
    "\"\"\"\n",
    "DON'T MODIFY ANYTHING IN THIS CELL THAT IS BELOW THIS LINE\n",
    "\"\"\"\n",
    "tests.test_normalize(normalize)"
   ]
  },
  {
   "cell_type": "markdown",
   "metadata": {},
   "source": [
    "### One-hot encode\n",
    "Just like the previous code cell, you'll be implementing a function for preprocessing.  This time, you'll implement the `one_hot_encode` function. The input, `x`, are a list of labels.  Implement the function to return the list of labels as One-Hot encoded Numpy array.  The possible values for labels are 0 to 9. The one-hot encoding function should return the same encoding for each value between each call to `one_hot_encode`.  Make sure to save the map of encodings outside the function.\n",
    "\n",
    "Hint: Don't reinvent the wheel."
   ]
  },
  {
   "cell_type": "code",
   "execution_count": 4,
   "metadata": {},
   "outputs": [
    {
     "name": "stdout",
     "output_type": "stream",
     "text": [
      "Tests Passed\n"
     ]
    }
   ],
   "source": [
    "from sklearn.preprocessing import OneHotEncoder\n",
    "import types\n",
    "global encoder\n",
    "encoder = None\n",
    "def one_hot_encode(x):\n",
    "    \"\"\"\n",
    "    One hot encode a list of sample labels. Return a one-hot encoded vector for each label.\n",
    "    : x: List of sample Labels\n",
    "    : return: Numpy array of one-hot encoded labels\n",
    "    \"\"\"\n",
    "    # Implement Function\n",
    "    global encoder\n",
    "    x = np.array(x)\n",
    "    \n",
    "    if len(x.shape) == 1:\n",
    "        x = x[:, None]\n",
    "    \n",
    "    if encoder is None:\n",
    "        encoder = OneHotEncoder()\n",
    "        encoder.fit(x)\n",
    "    outvals = encoder.transform(x).toarray()\n",
    "    return outvals\n",
    "\n",
    "\n",
    "\"\"\"\n",
    "DON'T MODIFY ANYTHING IN THIS CELL THAT IS BELOW THIS LINE\n",
    "\"\"\"\n",
    "tests.test_one_hot_encode(one_hot_encode)"
   ]
  },
  {
   "cell_type": "markdown",
   "metadata": {},
   "source": [
    "### Randomize Data\n",
    "As you saw from exploring the data above, the order of the samples are randomized.  It doesn't hurt to randomize it again, but you don't need to for this dataset."
   ]
  },
  {
   "cell_type": "markdown",
   "metadata": {},
   "source": [
    "## Preprocess all the data and save it\n",
    "Running the code cell below will preprocess all the CIFAR-10 data and save it to file. The code below also uses 10% of the training data for validation."
   ]
  },
  {
   "cell_type": "code",
   "execution_count": 5,
   "metadata": {
    "collapsed": true
   },
   "outputs": [],
   "source": [
    "\"\"\"\n",
    "DON'T MODIFY ANYTHING IN THIS CELL\n",
    "\"\"\"\n",
    "# Preprocess Training, Validation, and Testing Data\n",
    "helper.preprocess_and_save_data(cifar10_dataset_folder_path, normalize, one_hot_encode)"
   ]
  },
  {
   "cell_type": "markdown",
   "metadata": {},
   "source": [
    "# Check Point\n",
    "This is your first checkpoint.  If you ever decide to come back to this notebook or have to restart the notebook, you can start from here.  The preprocessed data has been saved to disk."
   ]
  },
  {
   "cell_type": "code",
   "execution_count": 6,
   "metadata": {
    "collapsed": true
   },
   "outputs": [],
   "source": [
    "\"\"\"\n",
    "DON'T MODIFY ANYTHING IN THIS CELL\n",
    "\"\"\"\n",
    "import pickle\n",
    "import problem_unittests as tests\n",
    "import helper\n",
    "\n",
    "# Load the Preprocessed Validation data\n",
    "valid_features, valid_labels = pickle.load(open('preprocess_validation.p', mode='rb'))"
   ]
  },
  {
   "cell_type": "markdown",
   "metadata": {},
   "source": [
    "## Build the network\n",
    "For the neural network, you'll build each layer into a function.  Most of the code you've seen has been outside of functions. To test your code more thoroughly, we require that you put each layer in a function.  This allows us to give you better feedback and test for simple mistakes using our unittests before you submit your project.\n",
    "\n",
    ">**Note:** If you're finding it hard to dedicate enough time for this course each week, we've provided a small shortcut to this part of the project. In the next couple of problems, you'll have the option to use classes from the [TensorFlow Layers](https://www.tensorflow.org/api_docs/python/tf/layers) or [TensorFlow Layers (contrib)](https://www.tensorflow.org/api_guides/python/contrib.layers) packages to build each layer, except the layers you build in the \"Convolutional and Max Pooling Layer\" section.  TF Layers is similar to Keras's and TFLearn's abstraction to layers, so it's easy to pickup.\n",
    "\n",
    ">However, if you would like to get the most out of this course, try to solve all the problems _without_ using anything from the TF Layers packages. You **can** still use classes from other packages that happen to have the same name as ones you find in TF Layers! For example, instead of using the TF Layers version of the `conv2d` class, [tf.layers.conv2d](https://www.tensorflow.org/api_docs/python/tf/layers/conv2d), you would want to use the TF Neural Network version of `conv2d`, [tf.nn.conv2d](https://www.tensorflow.org/api_docs/python/tf/nn/conv2d). \n",
    "\n",
    "Let's begin!\n",
    "\n",
    "### Input\n",
    "The neural network needs to read the image data, one-hot encoded labels, and dropout keep probability. Implement the following functions\n",
    "* Implement `neural_net_image_input`\n",
    " * Return a [TF Placeholder](https://www.tensorflow.org/api_docs/python/tf/placeholder)\n",
    " * Set the shape using `image_shape` with batch size set to `None`.\n",
    " * Name the TensorFlow placeholder \"x\" using the TensorFlow `name` parameter in the [TF Placeholder](https://www.tensorflow.org/api_docs/python/tf/placeholder).\n",
    "* Implement `neural_net_label_input`\n",
    " * Return a [TF Placeholder](https://www.tensorflow.org/api_docs/python/tf/placeholder)\n",
    " * Set the shape using `n_classes` with batch size set to `None`.\n",
    " * Name the TensorFlow placeholder \"y\" using the TensorFlow `name` parameter in the [TF Placeholder](https://www.tensorflow.org/api_docs/python/tf/placeholder).\n",
    "* Implement `neural_net_keep_prob_input`\n",
    " * Return a [TF Placeholder](https://www.tensorflow.org/api_docs/python/tf/placeholder) for dropout keep probability.\n",
    " * Name the TensorFlow placeholder \"keep_prob\" using the TensorFlow `name` parameter in the [TF Placeholder](https://www.tensorflow.org/api_docs/python/tf/placeholder).\n",
    "\n",
    "These names will be used at the end of the project to load your saved model.\n",
    "\n",
    "Note: `None` for shapes in TensorFlow allow for a dynamic size."
   ]
  },
  {
   "cell_type": "code",
   "execution_count": 7,
   "metadata": {},
   "outputs": [
    {
     "name": "stdout",
     "output_type": "stream",
     "text": [
      "Image Input Tests Passed.\n",
      "Label Input Tests Passed.\n",
      "Keep Prob Tests Passed.\n"
     ]
    }
   ],
   "source": [
    "import tensorflow as tf\n",
    "\n",
    "def neural_net_image_input(image_shape):\n",
    "    \"\"\"\n",
    "    Return a Tensor for a batch of image input\n",
    "    : image_shape: Shape of the images\n",
    "    : return: Tensor for image input.\n",
    "    \"\"\"\n",
    "    return tf.placeholder(dtype=tf.float32, shape=(None,) + image_shape, name='x')\n",
    "\n",
    "\n",
    "def neural_net_label_input(n_classes):\n",
    "    \"\"\"\n",
    "    Return a Tensor for a batch of label input\n",
    "    : n_classes: Number of classes\n",
    "    : return: Tensor for label input.\n",
    "    \"\"\"\n",
    "    # TODO: Implement Function\n",
    "    return tf.placeholder(dtype=tf.float32, shape=(None, n_classes), name='y')\n",
    "\n",
    "\n",
    "def neural_net_keep_prob_input():\n",
    "    \"\"\"\n",
    "    Return a Tensor for keep probability\n",
    "    : return: Tensor for keep probability.\n",
    "    \"\"\"\n",
    "    return tf.placeholder(dtype=tf.float32, shape=None, name='keep_prob')\n",
    "\n",
    "\n",
    "\"\"\"\n",
    "DON'T MODIFY ANYTHING IN THIS CELL THAT IS BELOW THIS LINE\n",
    "\"\"\"\n",
    "tf.reset_default_graph()\n",
    "tests.test_nn_image_inputs(neural_net_image_input)\n",
    "tests.test_nn_label_inputs(neural_net_label_input)\n",
    "tests.test_nn_keep_prob_inputs(neural_net_keep_prob_input)"
   ]
  },
  {
   "cell_type": "markdown",
   "metadata": {},
   "source": [
    "### Convolution and Max Pooling Layer\n",
    "Convolution layers have a lot of success with images. For this code cell, you should implement the function `conv2d_maxpool` to apply convolution then max pooling:\n",
    "* Create the weight and bias using `conv_ksize`, `conv_num_outputs` and the shape of `x_tensor`.\n",
    "* Apply a convolution to `x_tensor` using weight and `conv_strides`.\n",
    " * We recommend you use same padding, but you're welcome to use any padding.\n",
    "* Add bias\n",
    "* Add a nonlinear activation to the convolution.\n",
    "* Apply Max Pooling using `pool_ksize` and `pool_strides`.\n",
    " * We recommend you use same padding, but you're welcome to use any padding.\n",
    "\n",
    "**Note:** You **can't** use [TensorFlow Layers](https://www.tensorflow.org/api_docs/python/tf/layers) or [TensorFlow Layers (contrib)](https://www.tensorflow.org/api_guides/python/contrib.layers) for **this** layer, but you can still use TensorFlow's [Neural Network](https://www.tensorflow.org/api_docs/python/tf/nn) package. You may still use the shortcut option for all the **other** layers."
   ]
  },
  {
   "cell_type": "code",
   "execution_count": 8,
   "metadata": {},
   "outputs": [
    {
     "name": "stdout",
     "output_type": "stream",
     "text": [
      "Tests Passed\n"
     ]
    }
   ],
   "source": [
    "def conv2d_maxpool(x_tensor, conv_num_outputs, conv_ksize, conv_strides, pool_ksize, pool_strides):\n",
    "    \"\"\"\n",
    "    Apply convolution then max pooling to x_tensor\n",
    "    :param x_tensor: TensorFlow Tensor\n",
    "    :param conv_num_outputs: Number of outputs for the convolutional layer\n",
    "    :param conv_ksize: kernal size 2-D Tuple for the convolutional layer\n",
    "    :param conv_strides: Stride 2-D Tuple for convolution\n",
    "    :param pool_ksize: kernal size 2-D Tuple for pool\n",
    "    :param pool_strides: Stride 2-D Tuple for pool\n",
    "    : return: A tensor that represents convolution and max pooling of x_tensor\n",
    "    \"\"\"\n",
    "    # TODO: Implement Function\n",
    "    in_channels = x_tensor.shape.as_list()[-1]\n",
    "    kernel_shape = [conv_ksize[0], conv_ksize[1], in_channels, conv_num_outputs]\n",
    "    \n",
    "    W = tf.Variable(initial_value=tf.truncated_normal(stddev=0.1, shape=kernel_shape, name='trunc_normal_init'), dtype=tf.float32, name='W')\n",
    "    b = tf.Variable(initial_value=tf.zeros(shape=[conv_num_outputs]), dtype = tf.float32, name='b')\n",
    "    \n",
    "    conv = tf.nn.conv2d(input=x_tensor, filter=W, strides=[1, conv_strides[0], conv_strides[1], 1], padding='SAME', name='conv')\n",
    "    logit = tf.add(conv, b, name='logit')\n",
    "    conv_elu = tf.nn.elu(logit, name='elu')\n",
    "    \n",
    "    \n",
    "    # Apply pooling\n",
    "    conv_pool = tf.nn.max_pool(value=conv_elu, ksize=[1, pool_ksize[0], pool_ksize[1], 1], \n",
    "                               strides=[1, pool_strides[0], pool_strides[1], 1], padding='SAME', name='maxpool')\n",
    "    \n",
    "    return conv_pool \n",
    "\n",
    "\n",
    "\"\"\"\n",
    "DON'T MODIFY ANYTHING IN THIS CELL THAT IS BELOW THIS LINE\n",
    "\"\"\"\n",
    "tests.test_con_pool(conv2d_maxpool)"
   ]
  },
  {
   "cell_type": "markdown",
   "metadata": {},
   "source": [
    "### Flatten Layer\n",
    "Implement the `flatten` function to change the dimension of `x_tensor` from a 4-D tensor to a 2-D tensor.  The output should be the shape (*Batch Size*, *Flattened Image Size*). Shortcut option: you can use classes from the [TensorFlow Layers](https://www.tensorflow.org/api_docs/python/tf/layers) or [TensorFlow Layers (contrib)](https://www.tensorflow.org/api_guides/python/contrib.layers) packages for this layer. For more of a challenge, only use other TensorFlow packages."
   ]
  },
  {
   "cell_type": "code",
   "execution_count": 9,
   "metadata": {},
   "outputs": [
    {
     "name": "stdout",
     "output_type": "stream",
     "text": [
      "Tests Passed\n"
     ]
    }
   ],
   "source": [
    "def flatten(x_tensor):\n",
    "    \"\"\"\n",
    "    Flatten x_tensor to (Batch Size, Flattened Image Size)\n",
    "    : x_tensor: A tensor of size (Batch Size, ...), where ... are the image dimensions.\n",
    "    : return: A tensor of size (Batch Size, Flattened Image Size).\n",
    "    \"\"\"\n",
    "    dims = x_tensor.shape.as_list()\n",
    "    numel = dims[1]*dims[2]*dims[3]\n",
    "    return tf.reshape(x_tensor, shape=[-1, numel], name='reshape')\n",
    "\n",
    "\n",
    "\"\"\"\n",
    "DON'T MODIFY ANYTHING IN THIS CELL THAT IS BELOW THIS LINE\n",
    "\"\"\"\n",
    "tests.test_flatten(flatten)"
   ]
  },
  {
   "cell_type": "markdown",
   "metadata": {},
   "source": [
    "### Fully-Connected Layer\n",
    "Implement the `fully_conn` function to apply a fully connected layer to `x_tensor` with the shape (*Batch Size*, *num_outputs*). Shortcut option: you can use classes from the [TensorFlow Layers](https://www.tensorflow.org/api_docs/python/tf/layers) or [TensorFlow Layers (contrib)](https://www.tensorflow.org/api_guides/python/contrib.layers) packages for this layer. For more of a challenge, only use other TensorFlow packages."
   ]
  },
  {
   "cell_type": "code",
   "execution_count": 10,
   "metadata": {},
   "outputs": [
    {
     "name": "stdout",
     "output_type": "stream",
     "text": [
      "Tests Passed\n"
     ]
    }
   ],
   "source": [
    "def fully_conn(x_tensor, num_outputs):\n",
    "    \"\"\"\n",
    "    Apply a fully connected layer to x_tensor using weight and bias\n",
    "    : x_tensor: A 2-D tensor where the first dimension is batch size.\n",
    "    : num_outputs: The number of output that the new tensor should be.\n",
    "    : return: A 2-D tensor where the second dimension is num_outputs.\n",
    "    \"\"\"\n",
    "    # TODO: Implement Function\n",
    "    n_inputs = x_tensor.shape.as_list()[-1]\n",
    "    W = tf.Variable(initial_value=tf.truncated_normal(shape=[n_inputs, num_outputs], stddev=0.1), \n",
    "                    dtype=tf.float32, name='W')\n",
    "    b = tf.Variable(initial_value=tf.zeros(shape=[num_outputs], dtype=tf.float32), name='b')\n",
    "    logits = tf.add(tf.matmul(x_tensor, W), b, name='fully_conn')\n",
    "    return tf.nn.relu(logits)\n",
    "\n",
    "\n",
    "\"\"\"\n",
    "DON'T MODIFY ANYTHING IN THIS CELL THAT IS BELOW THIS LINE\n",
    "\"\"\"\n",
    "tests.test_fully_conn(fully_conn)"
   ]
  },
  {
   "cell_type": "markdown",
   "metadata": {},
   "source": [
    "### Output Layer\n",
    "Implement the `output` function to apply a fully connected layer to `x_tensor` with the shape (*Batch Size*, *num_outputs*). Shortcut option: you can use classes from the [TensorFlow Layers](https://www.tensorflow.org/api_docs/python/tf/layers) or [TensorFlow Layers (contrib)](https://www.tensorflow.org/api_guides/python/contrib.layers) packages for this layer. For more of a challenge, only use other TensorFlow packages.\n",
    "\n",
    "**Note:** Activation, softmax, or cross entropy should **not** be applied to this."
   ]
  },
  {
   "cell_type": "code",
   "execution_count": 11,
   "metadata": {},
   "outputs": [
    {
     "name": "stdout",
     "output_type": "stream",
     "text": [
      "Tests Passed\n"
     ]
    }
   ],
   "source": [
    "def output(x_tensor, num_outputs):\n",
    "    \"\"\"\n",
    "    Apply a output layer to x_tensor using weight and bias\n",
    "    : x_tensor: A 2-D tensor where the first dimension is batch size.\n",
    "    : num_outputs: The number of output that the new tensor should be.\n",
    "    : return: A 2-D tensor where the second dimension is num_outputs.\n",
    "    \"\"\"\n",
    "    n_inputs = x_tensor.shape.as_list()[-1]\n",
    "    W = tf.Variable(initial_value=tf.truncated_normal(shape=[n_inputs, num_outputs], stddev=0.1), \n",
    "                    dtype=tf.float32, name='W')\n",
    "    b = tf.Variable(initial_value=tf.zeros(shape=[num_outputs], dtype=tf.float32), name='b')\n",
    "    \n",
    "    return tf.add(tf.matmul(x_tensor, W), b, name='output')\n",
    "\n",
    "\n",
    "\"\"\"\n",
    "DON'T MODIFY ANYTHING IN THIS CELL THAT IS BELOW THIS LINE\n",
    "\"\"\"\n",
    "tests.test_output(output)"
   ]
  },
  {
   "cell_type": "markdown",
   "metadata": {},
   "source": [
    "### Create Convolutional Model\n",
    "Implement the function `conv_net` to create a convolutional neural network model. The function takes in a batch of images, `x`, and outputs logits.  Use the layers you created above to create this model:\n",
    "\n",
    "* Apply 1, 2, or 3 Convolution and Max Pool layers\n",
    "* Apply a Flatten Layer\n",
    "* Apply 1, 2, or 3 Fully Connected Layers\n",
    "* Apply an Output Layer\n",
    "* Return the output\n",
    "* Apply [TensorFlow's Dropout](https://www.tensorflow.org/api_docs/python/tf/nn/dropout) to one or more layers in the model using `keep_prob`. "
   ]
  },
  {
   "cell_type": "code",
   "execution_count": 12,
   "metadata": {},
   "outputs": [
    {
     "name": "stdout",
     "output_type": "stream",
     "text": [
      "Neural Network Built!\n"
     ]
    }
   ],
   "source": [
    "def conv_net(x, keep_prob):\n",
    "    \"\"\"\n",
    "    Create a convolutional neural network model\n",
    "    : x: Placeholder tensor that holds image data.\n",
    "    : keep_prob: Placeholder tensor that hold dropout keep probability.\n",
    "    : return: Tensor that represents logits\n",
    "    \"\"\"\n",
    "    # Apply 1, 2, or 3 Convolution and Max Pool layers\n",
    "    # Function Definition from Above:\n",
    "    conv_pool1 = conv2d_maxpool(x_tensor = x, conv_num_outputs = 96, \n",
    "                                conv_ksize =[3,3], conv_strides=[1,1], pool_ksize = [2,2], pool_strides=[2,2])\n",
    "    # ---------------------------------------------------- #\n",
    "    conv_pool2 = conv2d_maxpool(x_tensor = conv_pool1, conv_num_outputs = 256, \n",
    "                                conv_ksize = [3,3], conv_strides=[1,1], pool_ksize = [2,2], pool_strides=[2,2])\n",
    "    # ---------------------------------------------------- #\n",
    "    conv_pool3 = conv2d_maxpool(x_tensor = conv_pool2, conv_num_outputs = 512, \n",
    "                                conv_ksize = [3,3], conv_strides=[1,1], pool_ksize = [2,2], pool_strides=[2,2])\n",
    "    # ---------------------------------------------------- #\n",
    "    # Apply a Flatten Layer\n",
    "    # Function Definition from Above:\n",
    "    fl = flatten(x_tensor=conv_pool3)\n",
    "    # ---------------------------------------------------- #\n",
    "    #   Apply 1, 2, or 3 Fully Connected Layers\n",
    "    # Function Definition from Above:\n",
    "    fc1 = fully_conn(x_tensor=fl, num_outputs = 512)\n",
    "    fc1_drop = tf.nn.dropout(fc1, keep_prob=keep_prob, name='fc1_drop')\n",
    "    # ---------------------------------------------------- #\n",
    "    fc2 = fully_conn(x_tensor=fc1_drop, num_outputs = 256)\n",
    "    fc2_drop = tf.nn.dropout(fc2, keep_prob=keep_prob, name='fc2_drop')\n",
    "    # ---------------------------------------------------- #\n",
    "    fc3 = fully_conn(x_tensor=fc2_drop, num_outputs = 128)\n",
    "    fc3_drop = tf.nn.dropout(fc3, keep_prob=keep_prob, name='fc3_drop')\n",
    "    # ---------------------------------------------------- #\n",
    "    \n",
    "    # Apply an Output Layer\n",
    "    #    Set this to the number of classes\n",
    "    # Function Definition from Above:\n",
    "    out_logit = output(x_tensor=fc3_drop, num_outputs = 10)\n",
    "    \n",
    "    \n",
    "    # return output\n",
    "    return out_logit\n",
    "\n",
    "\n",
    "\"\"\"\n",
    "DON'T MODIFY ANYTHING IN THIS CELL THAT IS BELOW THIS LINE\n",
    "\"\"\"\n",
    "\n",
    "##############################\n",
    "## Build the Neural Network ##\n",
    "##############################\n",
    "\n",
    "# Remove previous weights, bias, inputs, etc..\n",
    "tf.reset_default_graph()\n",
    "\n",
    "# Inputs\n",
    "x = neural_net_image_input((32, 32, 3))\n",
    "y = neural_net_label_input(10)\n",
    "keep_prob = neural_net_keep_prob_input()\n",
    "\n",
    "# Model\n",
    "logits = conv_net(x, keep_prob)\n",
    "\n",
    "# Name logits Tensor, so that is can be loaded from disk after training\n",
    "logits = tf.identity(logits, name='logits')\n",
    "\n",
    "# Loss and Optimizer\n",
    "cost = tf.reduce_mean(tf.nn.softmax_cross_entropy_with_logits(logits=logits, labels=y))\n",
    "optimizer = tf.train.AdamOptimizer().minimize(cost)\n",
    "\n",
    "# Accuracy\n",
    "correct_pred = tf.equal(tf.argmax(logits, 1), tf.argmax(y, 1))\n",
    "accuracy = tf.reduce_mean(tf.cast(correct_pred, tf.float32), name='accuracy')\n",
    "\n",
    "tests.test_conv_net(conv_net)"
   ]
  },
  {
   "cell_type": "markdown",
   "metadata": {},
   "source": [
    "## Train the Neural Network\n",
    "### Single Optimization\n",
    "Implement the function `train_neural_network` to do a single optimization.  The optimization should use `optimizer` to optimize in `session` with a `feed_dict` of the following:\n",
    "* `x` for image input\n",
    "* `y` for labels\n",
    "* `keep_prob` for keep probability for dropout\n",
    "\n",
    "This function will be called for each batch, so `tf.global_variables_initializer()` has already been called.\n",
    "\n",
    "Note: Nothing needs to be returned. This function is only optimizing the neural network."
   ]
  },
  {
   "cell_type": "code",
   "execution_count": 13,
   "metadata": {},
   "outputs": [
    {
     "name": "stdout",
     "output_type": "stream",
     "text": [
      "Tests Passed\n"
     ]
    }
   ],
   "source": [
    "def train_neural_network(session, optimizer, keep_probability, feature_batch, label_batch):\n",
    "    \"\"\"\n",
    "    Optimize the session on a batch of images and labels\n",
    "    : session: Current TensorFlow session\n",
    "    : optimizer: TensorFlow optimizer function\n",
    "    : keep_probability: keep probability\n",
    "    : feature_batch: Batch of Numpy image data\n",
    "    : label_batch: Batch of Numpy label data\n",
    "    \"\"\"\n",
    "    # TODO: Implement Function\n",
    "    with session.as_default():\n",
    "        session.run(optimizer, feed_dict={x:feature_batch, y:label_batch, keep_prob:keep_probability})\n",
    "\n",
    "\n",
    "\"\"\"\n",
    "DON'T MODIFY ANYTHING IN THIS CELL THAT IS BELOW THIS LINE\n",
    "\"\"\"\n",
    "tests.test_train_nn(train_neural_network)"
   ]
  },
  {
   "cell_type": "markdown",
   "metadata": {},
   "source": [
    "### Show Stats\n",
    "Implement the function `print_stats` to print loss and validation accuracy.  Use the global variables `valid_features` and `valid_labels` to calculate validation accuracy.  Use a keep probability of `1.0` to calculate the loss and validation accuracy."
   ]
  },
  {
   "cell_type": "code",
   "execution_count": 14,
   "metadata": {
    "collapsed": true
   },
   "outputs": [],
   "source": [
    "def print_stats(session, feature_batch, label_batch, cost, accuracy):\n",
    "    \"\"\"\n",
    "    Print information about loss and validation accuracy\n",
    "    : session: Current TensorFlow session\n",
    "    : feature_batch: Batch of Numpy image data\n",
    "    : label_batch: Batch of Numpy label data\n",
    "    : cost: TensorFlow cost function\n",
    "    : accuracy: TensorFlow accuracy function\n",
    "    \"\"\"\n",
    "    with session.as_default():\n",
    "        [cost_val, accuracy_val] = session.run([cost, accuracy], \n",
    "                                               feed_dict={x:feature_batch, y:label_batch, keep_prob:1.0})\n",
    "        print('Loss: {0:.3e}, Accuracy: {1:.3e}'.format(cost_val, accuracy_val))"
   ]
  },
  {
   "cell_type": "markdown",
   "metadata": {},
   "source": [
    "### Hyperparameters\n",
    "Tune the following parameters:\n",
    "* Set `epochs` to the number of iterations until the network stops learning or start overfitting\n",
    "* Set `batch_size` to the highest number that your machine has memory for.  Most people set them to common sizes of memory:\n",
    " * 64\n",
    " * 128\n",
    " * 256\n",
    " * ...\n",
    "* Set `keep_probability` to the probability of keeping a node using dropout"
   ]
  },
  {
   "cell_type": "code",
   "execution_count": 23,
   "metadata": {
    "collapsed": true
   },
   "outputs": [],
   "source": [
    "# Tune Parameters\n",
    "epochs = 20\n",
    "batch_size = 256\n",
    "keep_probability = 0.7"
   ]
  },
  {
   "cell_type": "markdown",
   "metadata": {},
   "source": [
    "### Train on a Single CIFAR-10 Batch\n",
    "Instead of training the neural network on all the CIFAR-10 batches of data, let's use a single batch. This should save time while you iterate on the model to get a better accuracy.  Once the final validation accuracy is 50% or greater, run the model on all the data in the next section."
   ]
  },
  {
   "cell_type": "code",
   "execution_count": 24,
   "metadata": {},
   "outputs": [
    {
     "name": "stdout",
     "output_type": "stream",
     "text": [
      "Checking the Training on a Single Batch...\n",
      "Epoch  1, CIFAR-10 Batch 1:  Loss: 2.206e+00, Accuracy: 1.500e-01\n",
      "Epoch  2, CIFAR-10 Batch 1:  Loss: 2.155e+00, Accuracy: 2.250e-01\n",
      "Epoch  3, CIFAR-10 Batch 1:  Loss: 2.089e+00, Accuracy: 2.250e-01\n",
      "Epoch  4, CIFAR-10 Batch 1:  Loss: 2.001e+00, Accuracy: 3.500e-01\n",
      "Epoch  5, CIFAR-10 Batch 1:  Loss: 1.855e+00, Accuracy: 3.750e-01\n",
      "Epoch  6, CIFAR-10 Batch 1:  Loss: 1.644e+00, Accuracy: 4.750e-01\n",
      "Epoch  7, CIFAR-10 Batch 1:  Loss: 1.499e+00, Accuracy: 5.750e-01\n",
      "Epoch  8, CIFAR-10 Batch 1:  Loss: 1.409e+00, Accuracy: 5.500e-01\n",
      "Epoch  9, CIFAR-10 Batch 1:  Loss: 1.389e+00, Accuracy: 5.000e-01\n",
      "Epoch 10, CIFAR-10 Batch 1:  Loss: 1.250e+00, Accuracy: 6.500e-01\n",
      "Epoch 11, CIFAR-10 Batch 1:  Loss: 1.136e+00, Accuracy: 7.000e-01\n",
      "Epoch 12, CIFAR-10 Batch 1:  Loss: 1.161e+00, Accuracy: 6.750e-01\n",
      "Epoch 13, CIFAR-10 Batch 1:  Loss: 1.004e+00, Accuracy: 6.500e-01\n",
      "Epoch 14, CIFAR-10 Batch 1:  Loss: 9.193e-01, Accuracy: 7.250e-01\n",
      "Epoch 15, CIFAR-10 Batch 1:  Loss: 8.959e-01, Accuracy: 7.250e-01\n",
      "Epoch 16, CIFAR-10 Batch 1:  Loss: 8.297e-01, Accuracy: 7.250e-01\n",
      "Epoch 17, CIFAR-10 Batch 1:  Loss: 7.564e-01, Accuracy: 7.500e-01\n",
      "Epoch 18, CIFAR-10 Batch 1:  Loss: 6.853e-01, Accuracy: 7.500e-01\n",
      "Epoch 19, CIFAR-10 Batch 1:  Loss: 6.432e-01, Accuracy: 8.000e-01\n",
      "Epoch 20, CIFAR-10 Batch 1:  Loss: 5.496e-01, Accuracy: 8.000e-01\n"
     ]
    }
   ],
   "source": [
    "\"\"\"\n",
    "DON'T MODIFY ANYTHING IN THIS CELL\n",
    "\"\"\"\n",
    "print('Checking the Training on a Single Batch...')\n",
    "with tf.Session() as sess:\n",
    "    # Initializing the variables\n",
    "    sess.run(tf.global_variables_initializer())\n",
    "    \n",
    "    # Training cycle\n",
    "    for epoch in range(epochs):\n",
    "        batch_i = 1\n",
    "        for batch_features, batch_labels in helper.load_preprocess_training_batch(batch_i, batch_size):\n",
    "            train_neural_network(sess, optimizer, keep_probability, batch_features, batch_labels)\n",
    "        print('Epoch {:>2}, CIFAR-10 Batch {}:  '.format(epoch + 1, batch_i), end='')\n",
    "        print_stats(sess, batch_features, batch_labels, cost, accuracy)"
   ]
  },
  {
   "cell_type": "markdown",
   "metadata": {},
   "source": [
    "### Fully Train the Model\n",
    "Now that you got a good accuracy with a single CIFAR-10 batch, try it with all five batches."
   ]
  },
  {
   "cell_type": "code",
   "execution_count": 25,
   "metadata": {
    "collapsed": true
   },
   "outputs": [],
   "source": [
    "# GT: Adding more epochs to the larger data set\n",
    "epochs = 50"
   ]
  },
  {
   "cell_type": "code",
   "execution_count": 26,
   "metadata": {
    "scrolled": true
   },
   "outputs": [
    {
     "name": "stdout",
     "output_type": "stream",
     "text": [
      "Training...\n",
      "Epoch  1, CIFAR-10 Batch 1:  Loss: 2.165e+00, Accuracy: 2.076e-01\n",
      "Epoch  1, CIFAR-10 Batch 2:  Loss: 2.049e+00, Accuracy: 2.688e-01\n",
      "Epoch  1, CIFAR-10 Batch 3:  Loss: 1.979e+00, Accuracy: 3.030e-01\n",
      "Epoch  1, CIFAR-10 Batch 4:  Loss: 1.850e+00, Accuracy: 3.270e-01\n",
      "Epoch  1, CIFAR-10 Batch 5:  Loss: 1.725e+00, Accuracy: 3.764e-01\n",
      "Epoch  2, CIFAR-10 Batch 1:  Loss: 1.676e+00, Accuracy: 4.142e-01\n",
      "Epoch  2, CIFAR-10 Batch 2:  Loss: 1.651e+00, Accuracy: 4.144e-01\n",
      "Epoch  2, CIFAR-10 Batch 3:  Loss: 1.580e+00, Accuracy: 4.124e-01\n",
      "Epoch  2, CIFAR-10 Batch 4:  Loss: 1.500e+00, Accuracy: 4.550e-01\n",
      "Epoch  2, CIFAR-10 Batch 5:  Loss: 1.488e+00, Accuracy: 4.548e-01\n",
      "Epoch  3, CIFAR-10 Batch 1:  Loss: 1.408e+00, Accuracy: 4.910e-01\n",
      "Epoch  3, CIFAR-10 Batch 2:  Loss: 1.427e+00, Accuracy: 4.812e-01\n",
      "Epoch  3, CIFAR-10 Batch 3:  Loss: 1.406e+00, Accuracy: 4.838e-01\n",
      "Epoch  3, CIFAR-10 Batch 4:  Loss: 1.390e+00, Accuracy: 5.148e-01\n",
      "Epoch  3, CIFAR-10 Batch 5:  Loss: 1.337e+00, Accuracy: 5.220e-01\n",
      "Epoch  4, CIFAR-10 Batch 1:  Loss: 1.349e+00, Accuracy: 5.424e-01\n",
      "Epoch  4, CIFAR-10 Batch 2:  Loss: 1.307e+00, Accuracy: 5.358e-01\n",
      "Epoch  4, CIFAR-10 Batch 3:  Loss: 1.285e+00, Accuracy: 5.284e-01\n",
      "Epoch  4, CIFAR-10 Batch 4:  Loss: 1.288e+00, Accuracy: 5.598e-01\n",
      "Epoch  4, CIFAR-10 Batch 5:  Loss: 1.270e+00, Accuracy: 5.466e-01\n",
      "Epoch  5, CIFAR-10 Batch 1:  Loss: 1.191e+00, Accuracy: 5.838e-01\n",
      "Epoch  5, CIFAR-10 Batch 2:  Loss: 1.192e+00, Accuracy: 5.726e-01\n",
      "Epoch  5, CIFAR-10 Batch 3:  Loss: 1.183e+00, Accuracy: 5.930e-01\n",
      "Epoch  5, CIFAR-10 Batch 4:  Loss: 1.142e+00, Accuracy: 6.062e-01\n",
      "Epoch  5, CIFAR-10 Batch 5:  Loss: 1.178e+00, Accuracy: 5.776e-01\n",
      "Epoch  6, CIFAR-10 Batch 1:  Loss: 1.144e+00, Accuracy: 5.996e-01\n",
      "Epoch  6, CIFAR-10 Batch 2:  Loss: 1.139e+00, Accuracy: 5.904e-01\n",
      "Epoch  6, CIFAR-10 Batch 3:  Loss: 1.113e+00, Accuracy: 6.020e-01\n",
      "Epoch  6, CIFAR-10 Batch 4:  Loss: 1.071e+00, Accuracy: 6.302e-01\n",
      "Epoch  6, CIFAR-10 Batch 5:  Loss: 1.068e+00, Accuracy: 6.340e-01\n",
      "Epoch  7, CIFAR-10 Batch 1:  Loss: 1.058e+00, Accuracy: 6.376e-01\n",
      "Epoch  7, CIFAR-10 Batch 2:  Loss: 1.037e+00, Accuracy: 6.368e-01\n",
      "Epoch  7, CIFAR-10 Batch 3:  Loss: 1.048e+00, Accuracy: 6.370e-01\n",
      "Epoch  7, CIFAR-10 Batch 4:  Loss: 1.013e+00, Accuracy: 6.572e-01\n",
      "Epoch  7, CIFAR-10 Batch 5:  Loss: 1.037e+00, Accuracy: 6.450e-01\n",
      "Epoch  8, CIFAR-10 Batch 1:  Loss: 1.018e+00, Accuracy: 6.552e-01\n",
      "Epoch  8, CIFAR-10 Batch 2:  Loss: 1.006e+00, Accuracy: 6.600e-01\n",
      "Epoch  8, CIFAR-10 Batch 3:  Loss: 9.638e-01, Accuracy: 6.688e-01\n",
      "Epoch  8, CIFAR-10 Batch 4:  Loss: 1.004e+00, Accuracy: 6.574e-01\n",
      "Epoch  8, CIFAR-10 Batch 5:  Loss: 9.718e-01, Accuracy: 6.672e-01\n",
      "Epoch  9, CIFAR-10 Batch 1:  Loss: 9.931e-01, Accuracy: 6.696e-01\n",
      "Epoch  9, CIFAR-10 Batch 2:  Loss: 9.517e-01, Accuracy: 6.784e-01\n",
      "Epoch  9, CIFAR-10 Batch 3:  Loss: 9.681e-01, Accuracy: 6.692e-01\n",
      "Epoch  9, CIFAR-10 Batch 4:  Loss: 9.863e-01, Accuracy: 6.670e-01\n",
      "Epoch  9, CIFAR-10 Batch 5:  Loss: 9.612e-01, Accuracy: 6.780e-01\n",
      "Epoch 10, CIFAR-10 Batch 1:  Loss: 9.747e-01, Accuracy: 6.722e-01\n",
      "Epoch 10, CIFAR-10 Batch 2:  Loss: 9.130e-01, Accuracy: 6.906e-01\n",
      "Epoch 10, CIFAR-10 Batch 3:  Loss: 9.264e-01, Accuracy: 6.848e-01\n",
      "Epoch 10, CIFAR-10 Batch 4:  Loss: 9.270e-01, Accuracy: 6.926e-01\n",
      "Epoch 10, CIFAR-10 Batch 5:  Loss: 9.387e-01, Accuracy: 6.822e-01\n",
      "Epoch 11, CIFAR-10 Batch 1:  Loss: 9.020e-01, Accuracy: 7.036e-01\n",
      "Epoch 11, CIFAR-10 Batch 2:  Loss: 9.213e-01, Accuracy: 6.882e-01\n",
      "Epoch 11, CIFAR-10 Batch 3:  Loss: 9.739e-01, Accuracy: 6.700e-01\n",
      "Epoch 11, CIFAR-10 Batch 4:  Loss: 9.003e-01, Accuracy: 7.038e-01\n",
      "Epoch 11, CIFAR-10 Batch 5:  Loss: 8.717e-01, Accuracy: 7.056e-01\n",
      "Epoch 12, CIFAR-10 Batch 1:  Loss: 8.841e-01, Accuracy: 7.048e-01\n",
      "Epoch 12, CIFAR-10 Batch 2:  Loss: 9.798e-01, Accuracy: 6.728e-01\n",
      "Epoch 12, CIFAR-10 Batch 3:  Loss: 8.613e-01, Accuracy: 7.056e-01\n",
      "Epoch 12, CIFAR-10 Batch 4:  Loss: 8.940e-01, Accuracy: 7.020e-01\n",
      "Epoch 12, CIFAR-10 Batch 5:  Loss: 8.665e-01, Accuracy: 7.114e-01\n",
      "Epoch 13, CIFAR-10 Batch 1:  Loss: 8.731e-01, Accuracy: 7.206e-01\n",
      "Epoch 13, CIFAR-10 Batch 2:  Loss: 8.968e-01, Accuracy: 7.030e-01\n",
      "Epoch 13, CIFAR-10 Batch 3:  Loss: 9.305e-01, Accuracy: 6.968e-01\n",
      "Epoch 13, CIFAR-10 Batch 4:  Loss: 8.975e-01, Accuracy: 6.990e-01\n",
      "Epoch 13, CIFAR-10 Batch 5:  Loss: 8.916e-01, Accuracy: 7.054e-01\n",
      "Epoch 14, CIFAR-10 Batch 1:  Loss: 9.136e-01, Accuracy: 7.026e-01\n",
      "Epoch 14, CIFAR-10 Batch 2:  Loss: 9.174e-01, Accuracy: 7.078e-01\n",
      "Epoch 14, CIFAR-10 Batch 3:  Loss: 8.998e-01, Accuracy: 7.042e-01\n",
      "Epoch 14, CIFAR-10 Batch 4:  Loss: 9.078e-01, Accuracy: 6.904e-01\n",
      "Epoch 14, CIFAR-10 Batch 5:  Loss: 8.775e-01, Accuracy: 7.222e-01\n",
      "Epoch 15, CIFAR-10 Batch 1:  Loss: 8.975e-01, Accuracy: 7.034e-01\n",
      "Epoch 15, CIFAR-10 Batch 2:  Loss: 9.326e-01, Accuracy: 6.958e-01\n",
      "Epoch 15, CIFAR-10 Batch 3:  Loss: 9.636e-01, Accuracy: 6.946e-01\n",
      "Epoch 15, CIFAR-10 Batch 4:  Loss: 8.641e-01, Accuracy: 7.182e-01\n",
      "Epoch 15, CIFAR-10 Batch 5:  Loss: 8.277e-01, Accuracy: 7.264e-01\n",
      "Epoch 16, CIFAR-10 Batch 1:  Loss: 8.721e-01, Accuracy: 7.224e-01\n",
      "Epoch 16, CIFAR-10 Batch 2:  Loss: 8.687e-01, Accuracy: 7.142e-01\n",
      "Epoch 16, CIFAR-10 Batch 3:  Loss: 8.995e-01, Accuracy: 7.098e-01\n",
      "Epoch 16, CIFAR-10 Batch 4:  Loss: 8.636e-01, Accuracy: 7.180e-01\n",
      "Epoch 16, CIFAR-10 Batch 5:  Loss: 8.690e-01, Accuracy: 7.180e-01\n",
      "Epoch 17, CIFAR-10 Batch 1:  Loss: 8.928e-01, Accuracy: 7.200e-01\n",
      "Epoch 17, CIFAR-10 Batch 2:  Loss: 9.105e-01, Accuracy: 7.230e-01\n",
      "Epoch 17, CIFAR-10 Batch 3:  Loss: 9.852e-01, Accuracy: 6.936e-01\n",
      "Epoch 17, CIFAR-10 Batch 4:  Loss: 9.046e-01, Accuracy: 7.154e-01\n",
      "Epoch 17, CIFAR-10 Batch 5:  Loss: 8.610e-01, Accuracy: 7.308e-01\n",
      "Epoch 18, CIFAR-10 Batch 1:  Loss: 9.180e-01, Accuracy: 7.134e-01\n",
      "Epoch 18, CIFAR-10 Batch 2:  Loss: 9.250e-01, Accuracy: 7.206e-01\n",
      "Epoch 18, CIFAR-10 Batch 3:  Loss: 8.952e-01, Accuracy: 7.154e-01\n",
      "Epoch 18, CIFAR-10 Batch 4:  Loss: 9.583e-01, Accuracy: 6.988e-01\n",
      "Epoch 18, CIFAR-10 Batch 5:  Loss: 9.699e-01, Accuracy: 7.182e-01\n",
      "Epoch 19, CIFAR-10 Batch 1:  Loss: 9.064e-01, Accuracy: 7.232e-01\n",
      "Epoch 19, CIFAR-10 Batch 2:  Loss: 9.505e-01, Accuracy: 7.160e-01\n",
      "Epoch 19, CIFAR-10 Batch 3:  Loss: 8.789e-01, Accuracy: 7.308e-01\n",
      "Epoch 19, CIFAR-10 Batch 4:  Loss: 9.384e-01, Accuracy: 7.250e-01\n",
      "Epoch 19, CIFAR-10 Batch 5:  Loss: 8.452e-01, Accuracy: 7.376e-01\n",
      "Epoch 20, CIFAR-10 Batch 1:  Loss: 9.081e-01, Accuracy: 7.258e-01\n",
      "Epoch 20, CIFAR-10 Batch 2:  Loss: 9.113e-01, Accuracy: 7.236e-01\n",
      "Epoch 20, CIFAR-10 Batch 3:  Loss: 9.269e-01, Accuracy: 7.252e-01\n",
      "Epoch 20, CIFAR-10 Batch 4:  Loss: 8.511e-01, Accuracy: 7.336e-01\n",
      "Epoch 20, CIFAR-10 Batch 5:  Loss: 9.346e-01, Accuracy: 7.366e-01\n",
      "Epoch 21, CIFAR-10 Batch 1:  Loss: 9.354e-01, Accuracy: 7.286e-01\n",
      "Epoch 21, CIFAR-10 Batch 2:  Loss: 1.063e+00, Accuracy: 7.100e-01\n",
      "Epoch 21, CIFAR-10 Batch 3:  Loss: 9.267e-01, Accuracy: 7.350e-01\n",
      "Epoch 21, CIFAR-10 Batch 4:  Loss: 9.106e-01, Accuracy: 7.206e-01\n",
      "Epoch 21, CIFAR-10 Batch 5:  Loss: 9.312e-01, Accuracy: 7.342e-01\n",
      "Epoch 22, CIFAR-10 Batch 1:  Loss: 9.673e-01, Accuracy: 7.208e-01\n",
      "Epoch 22, CIFAR-10 Batch 2:  Loss: 9.237e-01, Accuracy: 7.346e-01\n",
      "Epoch 22, CIFAR-10 Batch 3:  Loss: 9.286e-01, Accuracy: 7.356e-01\n",
      "Epoch 22, CIFAR-10 Batch 4:  Loss: 9.389e-01, Accuracy: 7.194e-01\n",
      "Epoch 22, CIFAR-10 Batch 5:  Loss: 1.088e+00, Accuracy: 7.104e-01\n",
      "Epoch 23, CIFAR-10 Batch 1:  Loss: 9.415e-01, Accuracy: 7.234e-01\n",
      "Epoch 23, CIFAR-10 Batch 2:  Loss: 9.351e-01, Accuracy: 7.340e-01\n",
      "Epoch 23, CIFAR-10 Batch 3:  Loss: 9.450e-01, Accuracy: 7.288e-01\n",
      "Epoch 23, CIFAR-10 Batch 4:  Loss: 9.617e-01, Accuracy: 7.276e-01\n",
      "Epoch 23, CIFAR-10 Batch 5:  Loss: 9.010e-01, Accuracy: 7.448e-01\n",
      "Epoch 24, CIFAR-10 Batch 1:  Loss: 9.788e-01, Accuracy: 7.306e-01\n",
      "Epoch 24, CIFAR-10 Batch 2:  Loss: 9.525e-01, Accuracy: 7.330e-01\n",
      "Epoch 24, CIFAR-10 Batch 3:  Loss: 9.854e-01, Accuracy: 7.336e-01\n",
      "Epoch 24, CIFAR-10 Batch 4:  Loss: 9.736e-01, Accuracy: 7.306e-01\n",
      "Epoch 24, CIFAR-10 Batch 5:  Loss: 9.187e-01, Accuracy: 7.392e-01\n",
      "Epoch 25, CIFAR-10 Batch 1:  Loss: 9.673e-01, Accuracy: 7.438e-01\n",
      "Epoch 25, CIFAR-10 Batch 2:  Loss: 9.361e-01, Accuracy: 7.252e-01\n",
      "Epoch 25, CIFAR-10 Batch 3:  Loss: 1.009e+00, Accuracy: 7.360e-01\n",
      "Epoch 25, CIFAR-10 Batch 4:  Loss: 9.703e-01, Accuracy: 7.340e-01\n"
     ]
    },
    {
     "name": "stdout",
     "output_type": "stream",
     "text": [
      "Epoch 25, CIFAR-10 Batch 5:  Loss: 9.143e-01, Accuracy: 7.452e-01\n",
      "Epoch 26, CIFAR-10 Batch 1:  Loss: 1.055e+00, Accuracy: 7.236e-01\n",
      "Epoch 26, CIFAR-10 Batch 2:  Loss: 1.007e+00, Accuracy: 7.360e-01\n",
      "Epoch 26, CIFAR-10 Batch 3:  Loss: 9.700e-01, Accuracy: 7.372e-01\n",
      "Epoch 26, CIFAR-10 Batch 4:  Loss: 9.645e-01, Accuracy: 7.336e-01\n",
      "Epoch 26, CIFAR-10 Batch 5:  Loss: 9.583e-01, Accuracy: 7.560e-01\n",
      "Epoch 27, CIFAR-10 Batch 1:  Loss: 9.777e-01, Accuracy: 7.400e-01\n",
      "Epoch 27, CIFAR-10 Batch 2:  Loss: 9.354e-01, Accuracy: 7.502e-01\n",
      "Epoch 27, CIFAR-10 Batch 3:  Loss: 1.060e+00, Accuracy: 7.364e-01\n",
      "Epoch 27, CIFAR-10 Batch 4:  Loss: 1.002e+00, Accuracy: 7.364e-01\n",
      "Epoch 27, CIFAR-10 Batch 5:  Loss: 9.471e-01, Accuracy: 7.392e-01\n",
      "Epoch 28, CIFAR-10 Batch 1:  Loss: 1.063e+00, Accuracy: 7.236e-01\n",
      "Epoch 28, CIFAR-10 Batch 2:  Loss: 8.855e-01, Accuracy: 7.496e-01\n",
      "Epoch 28, CIFAR-10 Batch 3:  Loss: 9.474e-01, Accuracy: 7.586e-01\n",
      "Epoch 28, CIFAR-10 Batch 4:  Loss: 1.018e+00, Accuracy: 7.454e-01\n",
      "Epoch 28, CIFAR-10 Batch 5:  Loss: 9.974e-01, Accuracy: 7.518e-01\n",
      "Epoch 29, CIFAR-10 Batch 1:  Loss: 1.023e+00, Accuracy: 7.314e-01\n",
      "Epoch 29, CIFAR-10 Batch 2:  Loss: 1.018e+00, Accuracy: 7.398e-01\n",
      "Epoch 29, CIFAR-10 Batch 3:  Loss: 1.012e+00, Accuracy: 7.360e-01\n",
      "Epoch 29, CIFAR-10 Batch 4:  Loss: 9.677e-01, Accuracy: 7.382e-01\n",
      "Epoch 29, CIFAR-10 Batch 5:  Loss: 9.889e-01, Accuracy: 7.428e-01\n",
      "Epoch 30, CIFAR-10 Batch 1:  Loss: 9.641e-01, Accuracy: 7.390e-01\n",
      "Epoch 30, CIFAR-10 Batch 2:  Loss: 1.025e+00, Accuracy: 7.554e-01\n",
      "Epoch 30, CIFAR-10 Batch 3:  Loss: 9.812e-01, Accuracy: 7.512e-01\n",
      "Epoch 30, CIFAR-10 Batch 4:  Loss: 1.053e+00, Accuracy: 7.366e-01\n",
      "Epoch 30, CIFAR-10 Batch 5:  Loss: 1.051e+00, Accuracy: 7.416e-01\n",
      "Epoch 31, CIFAR-10 Batch 1:  Loss: 1.067e+00, Accuracy: 7.354e-01\n",
      "Epoch 31, CIFAR-10 Batch 2:  Loss: 1.073e+00, Accuracy: 7.350e-01\n",
      "Epoch 31, CIFAR-10 Batch 3:  Loss: 1.021e+00, Accuracy: 7.438e-01\n",
      "Epoch 31, CIFAR-10 Batch 4:  Loss: 1.102e+00, Accuracy: 7.454e-01\n",
      "Epoch 31, CIFAR-10 Batch 5:  Loss: 1.001e+00, Accuracy: 7.486e-01\n",
      "Epoch 32, CIFAR-10 Batch 1:  Loss: 9.912e-01, Accuracy: 7.478e-01\n",
      "Epoch 32, CIFAR-10 Batch 2:  Loss: 1.039e+00, Accuracy: 7.460e-01\n",
      "Epoch 32, CIFAR-10 Batch 3:  Loss: 9.957e-01, Accuracy: 7.506e-01\n",
      "Epoch 32, CIFAR-10 Batch 4:  Loss: 9.890e-01, Accuracy: 7.506e-01\n",
      "Epoch 32, CIFAR-10 Batch 5:  Loss: 1.034e+00, Accuracy: 7.520e-01\n",
      "Epoch 33, CIFAR-10 Batch 1:  Loss: 1.074e+00, Accuracy: 7.414e-01\n",
      "Epoch 33, CIFAR-10 Batch 2:  Loss: 1.097e+00, Accuracy: 7.508e-01\n",
      "Epoch 33, CIFAR-10 Batch 3:  Loss: 1.053e+00, Accuracy: 7.536e-01\n",
      "Epoch 33, CIFAR-10 Batch 4:  Loss: 9.766e-01, Accuracy: 7.550e-01\n",
      "Epoch 33, CIFAR-10 Batch 5:  Loss: 1.063e+00, Accuracy: 7.486e-01\n",
      "Epoch 34, CIFAR-10 Batch 1:  Loss: 1.090e+00, Accuracy: 7.454e-01\n",
      "Epoch 34, CIFAR-10 Batch 2:  Loss: 9.827e-01, Accuracy: 7.584e-01\n",
      "Epoch 34, CIFAR-10 Batch 3:  Loss: 1.063e+00, Accuracy: 7.538e-01\n",
      "Epoch 34, CIFAR-10 Batch 4:  Loss: 1.075e+00, Accuracy: 7.478e-01\n",
      "Epoch 34, CIFAR-10 Batch 5:  Loss: 1.188e+00, Accuracy: 7.404e-01\n",
      "Epoch 35, CIFAR-10 Batch 1:  Loss: 1.068e+00, Accuracy: 7.520e-01\n",
      "Epoch 35, CIFAR-10 Batch 2:  Loss: 1.199e+00, Accuracy: 7.510e-01\n",
      "Epoch 35, CIFAR-10 Batch 3:  Loss: 1.083e+00, Accuracy: 7.508e-01\n",
      "Epoch 35, CIFAR-10 Batch 4:  Loss: 1.085e+00, Accuracy: 7.366e-01\n",
      "Epoch 35, CIFAR-10 Batch 5:  Loss: 1.037e+00, Accuracy: 7.520e-01\n",
      "Epoch 36, CIFAR-10 Batch 1:  Loss: 1.082e+00, Accuracy: 7.466e-01\n",
      "Epoch 36, CIFAR-10 Batch 2:  Loss: 1.017e+00, Accuracy: 7.506e-01\n",
      "Epoch 36, CIFAR-10 Batch 3:  Loss: 1.030e+00, Accuracy: 7.532e-01\n",
      "Epoch 36, CIFAR-10 Batch 4:  Loss: 1.032e+00, Accuracy: 7.448e-01\n",
      "Epoch 36, CIFAR-10 Batch 5:  Loss: 1.124e+00, Accuracy: 7.500e-01\n",
      "Epoch 37, CIFAR-10 Batch 1:  Loss: 1.153e+00, Accuracy: 7.538e-01\n",
      "Epoch 37, CIFAR-10 Batch 2:  Loss: 1.075e+00, Accuracy: 7.498e-01\n",
      "Epoch 37, CIFAR-10 Batch 3:  Loss: 1.078e+00, Accuracy: 7.506e-01\n",
      "Epoch 37, CIFAR-10 Batch 4:  Loss: 1.139e+00, Accuracy: 7.242e-01\n",
      "Epoch 37, CIFAR-10 Batch 5:  Loss: 1.041e+00, Accuracy: 7.536e-01\n",
      "Epoch 38, CIFAR-10 Batch 1:  Loss: 1.075e+00, Accuracy: 7.482e-01\n",
      "Epoch 38, CIFAR-10 Batch 2:  Loss: 1.039e+00, Accuracy: 7.508e-01\n",
      "Epoch 38, CIFAR-10 Batch 3:  Loss: 1.105e+00, Accuracy: 7.548e-01\n",
      "Epoch 38, CIFAR-10 Batch 4:  Loss: 1.133e+00, Accuracy: 7.442e-01\n",
      "Epoch 38, CIFAR-10 Batch 5:  Loss: 1.145e+00, Accuracy: 7.446e-01\n",
      "Epoch 39, CIFAR-10 Batch 1:  Loss: 1.126e+00, Accuracy: 7.436e-01\n",
      "Epoch 39, CIFAR-10 Batch 2:  Loss: 1.155e+00, Accuracy: 7.452e-01\n",
      "Epoch 39, CIFAR-10 Batch 3:  Loss: 1.097e+00, Accuracy: 7.530e-01\n",
      "Epoch 39, CIFAR-10 Batch 4:  Loss: 1.127e+00, Accuracy: 7.462e-01\n",
      "Epoch 39, CIFAR-10 Batch 5:  Loss: 1.069e+00, Accuracy: 7.434e-01\n",
      "Epoch 40, CIFAR-10 Batch 1:  Loss: 1.088e+00, Accuracy: 7.396e-01\n",
      "Epoch 40, CIFAR-10 Batch 2:  Loss: 1.016e+00, Accuracy: 7.544e-01\n",
      "Epoch 40, CIFAR-10 Batch 3:  Loss: 1.113e+00, Accuracy: 7.446e-01\n",
      "Epoch 40, CIFAR-10 Batch 4:  Loss: 1.086e+00, Accuracy: 7.474e-01\n",
      "Epoch 40, CIFAR-10 Batch 5:  Loss: 1.049e+00, Accuracy: 7.524e-01\n",
      "Epoch 41, CIFAR-10 Batch 1:  Loss: 1.128e+00, Accuracy: 7.566e-01\n",
      "Epoch 41, CIFAR-10 Batch 2:  Loss: 1.112e+00, Accuracy: 7.450e-01\n",
      "Epoch 41, CIFAR-10 Batch 3:  Loss: 1.098e+00, Accuracy: 7.448e-01\n",
      "Epoch 41, CIFAR-10 Batch 4:  Loss: 1.172e+00, Accuracy: 7.502e-01\n",
      "Epoch 41, CIFAR-10 Batch 5:  Loss: 1.057e+00, Accuracy: 7.352e-01\n",
      "Epoch 42, CIFAR-10 Batch 1:  Loss: 1.101e+00, Accuracy: 7.490e-01\n",
      "Epoch 42, CIFAR-10 Batch 2:  Loss: 1.121e+00, Accuracy: 7.550e-01\n",
      "Epoch 42, CIFAR-10 Batch 3:  Loss: 1.116e+00, Accuracy: 7.556e-01\n",
      "Epoch 42, CIFAR-10 Batch 4:  Loss: 1.122e+00, Accuracy: 7.486e-01\n",
      "Epoch 42, CIFAR-10 Batch 5:  Loss: 1.257e+00, Accuracy: 7.244e-01\n",
      "Epoch 43, CIFAR-10 Batch 1:  Loss: 1.212e+00, Accuracy: 7.488e-01\n",
      "Epoch 43, CIFAR-10 Batch 2:  Loss: 1.073e+00, Accuracy: 7.620e-01\n",
      "Epoch 43, CIFAR-10 Batch 3:  Loss: 1.105e+00, Accuracy: 7.542e-01\n",
      "Epoch 43, CIFAR-10 Batch 4:  Loss: 1.145e+00, Accuracy: 7.460e-01\n",
      "Epoch 43, CIFAR-10 Batch 5:  Loss: 1.201e+00, Accuracy: 7.466e-01\n",
      "Epoch 44, CIFAR-10 Batch 1:  Loss: 1.110e+00, Accuracy: 7.508e-01\n",
      "Epoch 44, CIFAR-10 Batch 2:  Loss: 1.097e+00, Accuracy: 7.558e-01\n",
      "Epoch 44, CIFAR-10 Batch 3:  Loss: 1.169e+00, Accuracy: 7.474e-01\n",
      "Epoch 44, CIFAR-10 Batch 4:  Loss: 1.104e+00, Accuracy: 7.508e-01\n",
      "Epoch 44, CIFAR-10 Batch 5:  Loss: 1.113e+00, Accuracy: 7.574e-01\n",
      "Epoch 45, CIFAR-10 Batch 1:  Loss: 1.121e+00, Accuracy: 7.448e-01\n",
      "Epoch 45, CIFAR-10 Batch 2:  Loss: 1.051e+00, Accuracy: 7.580e-01\n",
      "Epoch 45, CIFAR-10 Batch 3:  Loss: 1.062e+00, Accuracy: 7.570e-01\n",
      "Epoch 45, CIFAR-10 Batch 4:  Loss: 1.227e+00, Accuracy: 7.498e-01\n",
      "Epoch 45, CIFAR-10 Batch 5:  Loss: 1.114e+00, Accuracy: 7.446e-01\n",
      "Epoch 46, CIFAR-10 Batch 1:  Loss: 1.116e+00, Accuracy: 7.510e-01\n",
      "Epoch 46, CIFAR-10 Batch 2:  Loss: 1.073e+00, Accuracy: 7.528e-01\n",
      "Epoch 46, CIFAR-10 Batch 3:  Loss: 1.199e+00, Accuracy: 7.478e-01\n",
      "Epoch 46, CIFAR-10 Batch 4:  Loss: 1.202e+00, Accuracy: 7.490e-01\n",
      "Epoch 46, CIFAR-10 Batch 5:  Loss: 1.180e+00, Accuracy: 7.396e-01\n",
      "Epoch 47, CIFAR-10 Batch 1:  Loss: 1.166e+00, Accuracy: 7.416e-01\n",
      "Epoch 47, CIFAR-10 Batch 2:  Loss: 1.146e+00, Accuracy: 7.536e-01\n",
      "Epoch 47, CIFAR-10 Batch 3:  Loss: 1.175e+00, Accuracy: 7.540e-01\n",
      "Epoch 47, CIFAR-10 Batch 4:  Loss: 1.194e+00, Accuracy: 7.486e-01\n",
      "Epoch 47, CIFAR-10 Batch 5:  Loss: 1.126e+00, Accuracy: 7.566e-01\n",
      "Epoch 48, CIFAR-10 Batch 1:  Loss: 1.240e+00, Accuracy: 7.430e-01\n",
      "Epoch 48, CIFAR-10 Batch 2:  Loss: 1.175e+00, Accuracy: 7.428e-01\n",
      "Epoch 48, CIFAR-10 Batch 3:  Loss: 1.180e+00, Accuracy: 7.490e-01\n",
      "Epoch 48, CIFAR-10 Batch 4:  Loss: 1.257e+00, Accuracy: 7.442e-01\n",
      "Epoch 48, CIFAR-10 Batch 5:  Loss: 1.197e+00, Accuracy: 7.488e-01\n",
      "Epoch 49, CIFAR-10 Batch 1:  Loss: 1.150e+00, Accuracy: 7.382e-01\n",
      "Epoch 49, CIFAR-10 Batch 2:  Loss: 1.146e+00, Accuracy: 7.576e-01\n",
      "Epoch 49, CIFAR-10 Batch 3:  Loss: 1.204e+00, Accuracy: 7.458e-01\n",
      "Epoch 49, CIFAR-10 Batch 4:  Loss: 1.276e+00, Accuracy: 7.438e-01\n",
      "Epoch 49, CIFAR-10 Batch 5:  Loss: 1.237e+00, Accuracy: 7.560e-01\n",
      "Epoch 50, CIFAR-10 Batch 1:  Loss: 1.238e+00, Accuracy: 7.422e-01\n",
      "Epoch 50, CIFAR-10 Batch 2:  Loss: 1.271e+00, Accuracy: 7.546e-01\n",
      "Epoch 50, CIFAR-10 Batch 3:  Loss: 1.203e+00, Accuracy: 7.426e-01\n",
      "Epoch 50, CIFAR-10 Batch 4:  Loss: 1.249e+00, Accuracy: 7.480e-01\n",
      "Epoch 50, CIFAR-10 Batch 5:  Loss: 1.164e+00, Accuracy: 7.642e-01\n"
     ]
    }
   ],
   "source": [
    "\"\"\"\n",
    "DON'T MODIFY ANYTHING IN THIS CELL\n",
    "\"\"\"\n",
    "save_model_path = './image_classification'\n",
    "\n",
    "print('Training...')\n",
    "with tf.Session() as sess:\n",
    "    # Initializing the variables\n",
    "    sess.run(tf.global_variables_initializer())\n",
    "    \n",
    "    # Training cycle\n",
    "    for epoch in range(epochs):\n",
    "        # Loop over all batches\n",
    "        n_batches = 5\n",
    "        for batch_i in range(1, n_batches + 1):\n",
    "            for batch_features, batch_labels in helper.load_preprocess_training_batch(batch_i, batch_size):\n",
    "                train_neural_network(sess, optimizer, keep_probability, batch_features, batch_labels)\n",
    "            print('Epoch {:>2}, CIFAR-10 Batch {}:  '.format(epoch + 1, batch_i), end='')\n",
    "            print_stats(sess, valid_features, valid_labels, cost, accuracy)\n",
    "            \n",
    "    # Save Model\n",
    "    saver = tf.train.Saver()\n",
    "    save_path = saver.save(sess, save_model_path)"
   ]
  },
  {
   "cell_type": "markdown",
   "metadata": {},
   "source": [
    "# Checkpoint\n",
    "The model has been saved to disk.\n",
    "## Test Model\n",
    "Test your model against the test dataset.  This will be your final accuracy. You should have an accuracy greater than 50%. If you don't, keep tweaking the model architecture and parameters."
   ]
  },
  {
   "cell_type": "code",
   "execution_count": 27,
   "metadata": {},
   "outputs": [
    {
     "name": "stdout",
     "output_type": "stream",
     "text": [
      "INFO:tensorflow:Restoring parameters from ./image_classification\n",
      "Testing Accuracy: 0.74453125\n",
      "\n"
     ]
    },
    {
     "data": {
      "image/png": "[encoded data removed]",
      "text/plain": [
       "<matplotlib.figure.Figure at 0x7fb9f7f75358>"
      ]
     },
     "metadata": {
      "image/png": {
       "height": 319,
       "width": 355
      }
     },
     "output_type": "display_data"
    }
   ],
   "source": [
    "\"\"\"\n",
    "DON'T MODIFY ANYTHING IN THIS CELL\n",
    "\"\"\"\n",
    "%matplotlib inline\n",
    "%config InlineBackend.figure_format = 'retina'\n",
    "\n",
    "import tensorflow as tf\n",
    "import pickle\n",
    "import helper\n",
    "import random\n",
    "\n",
    "# Set batch size if not already set\n",
    "try:\n",
    "    if batch_size:\n",
    "        pass\n",
    "except NameError:\n",
    "    batch_size = 64\n",
    "\n",
    "save_model_path = './image_classification'\n",
    "n_samples = 4\n",
    "top_n_predictions = 3\n",
    "\n",
    "def test_model():\n",
    "    \"\"\"\n",
    "    Test the saved model against the test dataset\n",
    "    \"\"\"\n",
    "\n",
    "    test_features, test_labels = pickle.load(open('preprocess_test.p', mode='rb'))\n",
    "    loaded_graph = tf.Graph()\n",
    "\n",
    "    with tf.Session(graph=loaded_graph) as sess:\n",
    "        # Load model\n",
    "        loader = tf.train.import_meta_graph(save_model_path + '.meta')\n",
    "        loader.restore(sess, save_model_path)\n",
    "\n",
    "        # Get Tensors from loaded model\n",
    "        loaded_x = loaded_graph.get_tensor_by_name('x:0')\n",
    "        loaded_y = loaded_graph.get_tensor_by_name('y:0')\n",
    "        loaded_keep_prob = loaded_graph.get_tensor_by_name('keep_prob:0')\n",
    "        loaded_logits = loaded_graph.get_tensor_by_name('logits:0')\n",
    "        loaded_acc = loaded_graph.get_tensor_by_name('accuracy:0')\n",
    "        \n",
    "        # Get accuracy in batches for memory limitations\n",
    "        test_batch_acc_total = 0\n",
    "        test_batch_count = 0\n",
    "        \n",
    "        for test_feature_batch, test_label_batch in helper.batch_features_labels(test_features, test_labels, batch_size):\n",
    "            test_batch_acc_total += sess.run(\n",
    "                loaded_acc,\n",
    "                feed_dict={loaded_x: test_feature_batch, loaded_y: test_label_batch, loaded_keep_prob: 1.0})\n",
    "            test_batch_count += 1\n",
    "\n",
    "        print('Testing Accuracy: {}\\n'.format(test_batch_acc_total/test_batch_count))\n",
    "\n",
    "        # Print Random Samples\n",
    "        random_test_features, random_test_labels = tuple(zip(*random.sample(list(zip(test_features, test_labels)), n_samples)))\n",
    "        random_test_predictions = sess.run(\n",
    "            tf.nn.top_k(tf.nn.softmax(loaded_logits), top_n_predictions),\n",
    "            feed_dict={loaded_x: random_test_features, loaded_y: random_test_labels, loaded_keep_prob: 1.0})\n",
    "        helper.display_image_predictions(random_test_features, random_test_labels, random_test_predictions)\n",
    "\n",
    "\n",
    "test_model()"
   ]
  },
  {
   "cell_type": "markdown",
   "metadata": {},
   "source": [
    "## Why 50-80% Accuracy?\n",
    "You might be wondering why you can't get an accuracy any higher. First things first, 50% isn't bad for a simple CNN.  Pure guessing would get you 10% accuracy. However, you might notice people are getting scores [well above 80%](http://rodrigob.github.io/are_we_there_yet/build/classification_datasets_results.html#43494641522d3130).  That's because we haven't taught you all there is to know about neural networks. We still need to cover a few more techniques.\n",
    "## Submitting This Project\n",
    "When submitting this project, make sure to run all the cells before saving the notebook.  Save the notebook file as \"dlnd_image_classification.ipynb\" and save it as a HTML file under \"File\" -> \"Download as\".  Include the \"helper.py\" and \"problem_unittests.py\" files in your submission."
   ]
  }
 ],
 "metadata": {
  "kernelspec": {
   "display_name": "Python 3",
   "language": "python",
   "name": "python3"
  },
  "language_info": {
   "codemirror_mode": {
    "name": "ipython",
    "version": 3
   },
   "file_extension": ".py",
   "mimetype": "text/x-python",
   "name": "python",
   "nbconvert_exporter": "python",
   "pygments_lexer": "ipython3",
   "version": "3.6.1"
  }
 },
 "nbformat": 4,
 "nbformat_minor": 1
}
